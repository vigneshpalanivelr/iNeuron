{
 "cells": [
  {
   "cell_type": "markdown",
   "id": "1bdb8892",
   "metadata": {
    "toc": true
   },
   "source": [
    "<h1>Table of Contents<span class=\"tocSkip\"></span></h1>\n",
    "<div class=\"toc\"><ul class=\"toc-item\"><li><span><a href=\"#Relative-Path\" data-toc-modified-id=\"Relative-Path-1\"><span class=\"toc-item-num\">1&nbsp;&nbsp;</span>Relative Path</a></span></li><li><span><a href=\"#Abs-Path-Starts-with\" data-toc-modified-id=\"Abs-Path-Starts-with-2\"><span class=\"toc-item-num\">2&nbsp;&nbsp;</span>Abs Path Starts with</a></span></li><li><span><a href=\"#os.getcwd()-and-os.chdir()\" data-toc-modified-id=\"os.getcwd()-and-os.chdir()-3\"><span class=\"toc-item-num\">3&nbsp;&nbsp;</span>os.getcwd() and os.chdir()</a></span></li><li><span><a href=\"#The-.-and-..-Dirs\" data-toc-modified-id=\"The-.-and-..-Dirs-4\"><span class=\"toc-item-num\">4&nbsp;&nbsp;</span>The . and .. Dirs</a></span></li><li><span><a href=\"#Base-&amp;-Dir-names\" data-toc-modified-id=\"Base-&amp;-Dir-names-5\"><span class=\"toc-item-num\">5&nbsp;&nbsp;</span>Base &amp; Dir names</a></span></li><li><span><a href=\"#Modes-in-open()-Func\" data-toc-modified-id=\"Modes-in-open()-Func-6\"><span class=\"toc-item-num\">6&nbsp;&nbsp;</span>Modes in open() Func</a></span></li><li><span><a href=\"#Write-mode-exsisting-file\" data-toc-modified-id=\"Write-mode-exsisting-file-7\"><span class=\"toc-item-num\">7&nbsp;&nbsp;</span>Write mode exsisting file</a></span></li><li><span><a href=\"#read()-and-readlines()\" data-toc-modified-id=\"read()-and-readlines()-8\"><span class=\"toc-item-num\">8&nbsp;&nbsp;</span>read() and readlines()</a></span></li><li><span><a href=\"#Data-Structures-of-Shelf\" data-toc-modified-id=\"Data-Structures-of-Shelf-9\"><span class=\"toc-item-num\">9&nbsp;&nbsp;</span>Data Structures of Shelf</a></span></li></ul></div>"
   ]
  },
  {
   "cell_type": "markdown",
   "id": "501ea093",
   "metadata": {},
   "source": [
    "# Relative Path\n",
    "**Question:1**<br>\n",
    "To what does a relative path refer?"
   ]
  },
  {
   "cell_type": "raw",
   "id": "972859d3",
   "metadata": {},
   "source": [
    "A relative path refers to a location that is relative to a current directory. "
   ]
  },
  {
   "cell_type": "markdown",
   "id": "31c7face",
   "metadata": {},
   "source": [
    "# Abs Path Starts with\n",
    "**Question:2**<br>\n",
    "What does an absolute path start with your operating system?"
   ]
  },
  {
   "cell_type": "raw",
   "id": "fdd579fe",
   "metadata": {},
   "source": [
    "Absolute path names always begin with the slash (/) symbol."
   ]
  },
  {
   "cell_type": "markdown",
   "id": "cdfce104",
   "metadata": {},
   "source": [
    "# os.getcwd() and os.chdir()\n",
    "**Question:3**<br>\n",
    "What do the functions os.getcwd() and os.chdir() do?"
   ]
  },
  {
   "cell_type": "raw",
   "id": "da5984b7",
   "metadata": {
    "ExecuteTime": {
     "end_time": "2022-10-08T10:15:10.881924Z",
     "start_time": "2022-10-08T10:15:10.861255Z"
    }
   },
   "source": [
    "getcwd(): Current Working Directory\n",
    "          This function allows you to see what your current working directory is.\n",
    "\n",
    "chdir() : CHange DIRectory\n",
    "          This function allows you to Change the current working directory to another path.\n",
    "          This function allows you to set the current working directory to a path of your choice"
   ]
  },
  {
   "cell_type": "markdown",
   "id": "044e663e",
   "metadata": {},
   "source": [
    "# The . and .. Dirs\n",
    "**Question:4**<br>\n",
    "What are the . and .. folders?"
   ]
  },
  {
   "cell_type": "raw",
   "id": "0578486e",
   "metadata": {},
   "source": [
    "Directory . : The current directory\n",
    "              It is a way to reference files and directories using a relative path\n",
    "              (E.g) ./subdir1/subdir2/somefile\n",
    "\n",
    "\n",
    "Directory ..: The parent directory\n",
    "              It is a way to reference the parent directory from the chile directory\n",
    "              E.g. ../../etc/cron.d."
   ]
  },
  {
   "cell_type": "markdown",
   "id": "c8761ce1",
   "metadata": {},
   "source": [
    "# Base & Dir names\n",
    "**Question:5**<br>\n",
    "In C:\\bacon\\eggs\\spam.txt, which part is the dir name, and which part is the base name?"
   ]
  },
  {
   "cell_type": "raw",
   "id": "fe3349fb",
   "metadata": {},
   "source": [
    "dirname: C:\\bacon\\eggs\n",
    "filename: spam.txt"
   ]
  },
  {
   "cell_type": "code",
   "execution_count": 1,
   "id": "50f13ab0",
   "metadata": {
    "ExecuteTime": {
     "end_time": "2022-10-08T11:12:27.848296Z",
     "start_time": "2022-10-08T11:12:27.827817Z"
    }
   },
   "outputs": [
    {
     "name": "stdout",
     "output_type": "stream",
     "text": [
      "dirname: /home/User/Documents\n",
      "filename: file.txt\n"
     ]
    }
   ],
   "source": [
    "# For Linux Based systems\n",
    "import os\n",
    "path = '/home/User/Documents/file.txt'\n",
    "\n",
    "dirname = os.path.dirname(path)\n",
    "print(f'dirname: {dirname}')\n",
    "\n",
    "filename = os.path.basename(path)\n",
    "print(f'filename: {filename}')"
   ]
  },
  {
   "cell_type": "markdown",
   "id": "5b7357e5",
   "metadata": {},
   "source": [
    "# Modes in open() Func\n",
    "**Question:6**<br>\n",
    "What are the three “mode” arguments that can be passed to the open() function?"
   ]
  },
  {
   "cell_type": "raw",
   "id": "a0ec28f5",
   "metadata": {},
   "source": [
    "READ\n",
    "WRITE\n",
    "APPEND"
   ]
  },
  {
   "cell_type": "markdown",
   "id": "51dbd14a",
   "metadata": {},
   "source": [
    "# Write mode exsisting file\n",
    "**Question:7**<br>\n",
    "What happens if an existing file is opened in write mode?"
   ]
  },
  {
   "cell_type": "raw",
   "id": "bff3f63e",
   "metadata": {},
   "source": [
    "If a file with the same name already exists, its contents are discarded and the file is treated as a new empty file."
   ]
  },
  {
   "cell_type": "markdown",
   "id": "6d86a0e7",
   "metadata": {},
   "source": [
    "# read() and readlines()\n",
    "**Question:8**<br>\n",
    "How do you tell the difference between read() and readlines()?"
   ]
  },
  {
   "cell_type": "markdown",
   "id": "553d6634",
   "metadata": {},
   "source": [
    "```\n",
    "1) fileObject.read()      : returns all data as a \"String\" format\n",
    "2) fileObject.readlines() : returns all data as a [\"list of String\"]\n",
    "```"
   ]
  },
  {
   "cell_type": "markdown",
   "id": "42abf20f",
   "metadata": {},
   "source": [
    "# Data Structures of Shelf\n",
    "**Question:9**<br>\n",
    "What data structure does a shelf value resemble?"
   ]
  },
  {
   "cell_type": "raw",
   "id": "f017ec99",
   "metadata": {},
   "source": [
    "A shelf value resembles a dictionary value\n",
    "It has keys   and values\n",
    "It has keys() and values() methods that work similarly to the dictionary methods."
   ]
  }
 ],
 "metadata": {
  "kernelspec": {
   "display_name": "Python 3 (ipykernel)",
   "language": "python",
   "name": "python3"
  },
  "language_info": {
   "codemirror_mode": {
    "name": "ipython",
    "version": 3
   },
   "file_extension": ".py",
   "mimetype": "text/x-python",
   "name": "python",
   "nbconvert_exporter": "python",
   "pygments_lexer": "ipython3",
   "version": "3.8.13"
  },
  "toc": {
   "base_numbering": 1,
   "nav_menu": {},
   "number_sections": true,
   "sideBar": true,
   "skip_h1_title": false,
   "title_cell": "Table of Contents",
   "title_sidebar": "Contents",
   "toc_cell": true,
   "toc_position": {},
   "toc_section_display": true,
   "toc_window_display": true
  }
 },
 "nbformat": 4,
 "nbformat_minor": 5
}
