{
 "cells": [
  {
   "cell_type": "markdown",
   "id": "8aa36171",
   "metadata": {
    "toc": true
   },
   "source": [
    "<h1>Table of Contents<span class=\"tocSkip\"></span></h1>\n",
    "<div class=\"toc\"><ul class=\"toc-item\"><li><span><a href=\"#List\" data-toc-modified-id=\"List-1\"><span class=\"toc-item-num\">1&nbsp;&nbsp;</span>List</a></span></li><li><span><a href=\"#Insert-into-a-list\" data-toc-modified-id=\"Insert-into-a-list-2\"><span class=\"toc-item-num\">2&nbsp;&nbsp;</span>Insert into a list</a></span></li><li><span><a href=\"#List-Slicing\" data-toc-modified-id=\"List-Slicing-3\"><span class=\"toc-item-num\">3&nbsp;&nbsp;</span>List Slicing</a></span></li><li><span><a href=\"#List-Update\" data-toc-modified-id=\"List-Update-4\"><span class=\"toc-item-num\">4&nbsp;&nbsp;</span>List Update</a></span></li><li><span><a href=\"#Concatenation-&amp;-Replicator-Operator\" data-toc-modified-id=\"Concatenation-&amp;-Replicator-Operator-5\"><span class=\"toc-item-num\">5&nbsp;&nbsp;</span>Concatenation &amp; Replicator Operator</a></span></li><li><span><a href=\"#Append-vs-Insert\" data-toc-modified-id=\"Append-vs-Insert-6\"><span class=\"toc-item-num\">6&nbsp;&nbsp;</span>Append vs Insert</a></span></li><li><span><a href=\"#Removing-elements\" data-toc-modified-id=\"Removing-elements-7\"><span class=\"toc-item-num\">7&nbsp;&nbsp;</span>Removing elements</a></span></li><li><span><a href=\"#Similarty-b/w-String-&amp;-List\" data-toc-modified-id=\"Similarty-b/w-String-&amp;-List-8\"><span class=\"toc-item-num\">8&nbsp;&nbsp;</span>Similarty b/w String &amp; List</a></span></li><li><span><a href=\"#Tuples-vs-Lists\" data-toc-modified-id=\"Tuples-vs-Lists-9\"><span class=\"toc-item-num\">9&nbsp;&nbsp;</span>Tuples vs Lists</a></span></li><li><span><a href=\"#Tuple\" data-toc-modified-id=\"Tuple-10\"><span class=\"toc-item-num\">10&nbsp;&nbsp;</span>Tuple</a></span></li><li><span><a href=\"#List-as-Tuple-&amp;-Tuple-as-List\" data-toc-modified-id=\"List-as-Tuple-&amp;-Tuple-as-List-11\"><span class=\"toc-item-num\">11&nbsp;&nbsp;</span>List as Tuple &amp; Tuple as List</a></span></li><li><span><a href=\"#List-Values-Contains\" data-toc-modified-id=\"List-Values-Contains-12\"><span class=\"toc-item-num\">12&nbsp;&nbsp;</span>List Values Contains</a></span></li><li><span><a href=\"#Shallow-Copy-vs-Deep-Copy\" data-toc-modified-id=\"Shallow-Copy-vs-Deep-Copy-13\"><span class=\"toc-item-num\">13&nbsp;&nbsp;</span>Shallow Copy vs Deep Copy</a></span></li></ul></div>"
   ]
  },
  {
   "cell_type": "markdown",
   "id": "993b7215",
   "metadata": {},
   "source": [
    "# List\n",
    "Question:1<br>\n",
    "What exactly is []?"
   ]
  },
  {
   "cell_type": "raw",
   "id": "f5b1d66a",
   "metadata": {},
   "source": [
    "List"
   ]
  },
  {
   "cell_type": "code",
   "execution_count": 1,
   "id": "3c1bb5e6",
   "metadata": {
    "ExecuteTime": {
     "end_time": "2022-09-25T11:06:57.371850Z",
     "start_time": "2022-09-25T11:06:57.305262Z"
    }
   },
   "outputs": [
    {
     "data": {
      "text/plain": [
       "list"
      ]
     },
     "execution_count": 1,
     "metadata": {},
     "output_type": "execute_result"
    }
   ],
   "source": [
    "type([])"
   ]
  },
  {
   "cell_type": "markdown",
   "id": "e81c555c",
   "metadata": {},
   "source": [
    "# Insert into a list\n",
    "Question:2<br>\n",
    "In a list of values stored in a variable called spam, how would you assign the value 'hello' as the third value?<br>\n",
    "(Assume [2, 4, 6, 8, 10] are in spam.)"
   ]
  },
  {
   "cell_type": "code",
   "execution_count": 2,
   "id": "b88a6cfa",
   "metadata": {
    "ExecuteTime": {
     "end_time": "2022-09-25T11:06:57.405856Z",
     "start_time": "2022-09-25T11:06:57.386125Z"
    }
   },
   "outputs": [
    {
     "data": {
      "text/plain": [
       "[2, 4, 6, 8, 10]"
      ]
     },
     "execution_count": 2,
     "metadata": {},
     "output_type": "execute_result"
    }
   ],
   "source": [
    "spam = [2, 4, 6, 8, 10]\n",
    "spam"
   ]
  },
  {
   "cell_type": "code",
   "execution_count": 3,
   "id": "3e8b222c",
   "metadata": {
    "ExecuteTime": {
     "end_time": "2022-09-25T11:06:57.437121Z",
     "start_time": "2022-09-25T11:06:57.413059Z"
    }
   },
   "outputs": [
    {
     "data": {
      "text/plain": [
       "[2, 4, 'hello', 6, 8, 10]"
      ]
     },
     "execution_count": 3,
     "metadata": {},
     "output_type": "execute_result"
    }
   ],
   "source": [
    "spam.insert(2,'hello') # 2nd Index = 3rd Value\n",
    "spam"
   ]
  },
  {
   "cell_type": "markdown",
   "id": "de8c7a1d",
   "metadata": {},
   "source": [
    "# List Slicing\n",
    "Question:3<br>\n",
    "What is the value of spam[int(int('3' * 2) / 11)]?<br>\n",
    "spam = ['a', 'b', 'c', 'd']"
   ]
  },
  {
   "cell_type": "code",
   "execution_count": 4,
   "id": "83d57fa7",
   "metadata": {
    "ExecuteTime": {
     "end_time": "2022-09-25T11:06:57.471829Z",
     "start_time": "2022-09-25T11:06:57.457974Z"
    }
   },
   "outputs": [],
   "source": [
    "spam = ['a', 'b', 'c', 'd']"
   ]
  },
  {
   "cell_type": "code",
   "execution_count": 5,
   "id": "396851f4",
   "metadata": {
    "ExecuteTime": {
     "end_time": "2022-09-25T11:06:57.520083Z",
     "start_time": "2022-09-25T11:06:57.477557Z"
    }
   },
   "outputs": [
    {
     "data": {
      "text/plain": [
       "33"
      ]
     },
     "execution_count": 5,
     "metadata": {},
     "output_type": "execute_result"
    }
   ],
   "source": [
    "int('3' * 2)"
   ]
  },
  {
   "cell_type": "code",
   "execution_count": 6,
   "id": "332d9cf2",
   "metadata": {
    "ExecuteTime": {
     "end_time": "2022-09-25T11:06:57.549707Z",
     "start_time": "2022-09-25T11:06:57.529187Z"
    }
   },
   "outputs": [
    {
     "data": {
      "text/plain": [
       "3.0"
      ]
     },
     "execution_count": 6,
     "metadata": {},
     "output_type": "execute_result"
    }
   ],
   "source": [
    "int('3' * 2) / 11"
   ]
  },
  {
   "cell_type": "code",
   "execution_count": 7,
   "id": "1d290dbe",
   "metadata": {
    "ExecuteTime": {
     "end_time": "2022-09-25T11:06:57.581348Z",
     "start_time": "2022-09-25T11:06:57.556333Z"
    }
   },
   "outputs": [
    {
     "data": {
      "text/plain": [
       "3"
      ]
     },
     "execution_count": 7,
     "metadata": {},
     "output_type": "execute_result"
    }
   ],
   "source": [
    "int(int('3' * 2) / 11)"
   ]
  },
  {
   "cell_type": "code",
   "execution_count": 8,
   "id": "0ccdf6c7",
   "metadata": {
    "ExecuteTime": {
     "end_time": "2022-09-25T11:06:57.629343Z",
     "start_time": "2022-09-25T11:06:57.608500Z"
    }
   },
   "outputs": [
    {
     "data": {
      "text/plain": [
       "'d'"
      ]
     },
     "execution_count": 8,
     "metadata": {},
     "output_type": "execute_result"
    }
   ],
   "source": [
    "spam[int(int('3' * 2) / 11)]"
   ]
  },
  {
   "cell_type": "markdown",
   "id": "3f810ae6",
   "metadata": {},
   "source": [
    "Question:4<br>\n",
    "What is the value of spam[-1]?"
   ]
  },
  {
   "cell_type": "code",
   "execution_count": 9,
   "id": "572c60b3",
   "metadata": {
    "ExecuteTime": {
     "end_time": "2022-09-25T11:06:57.671763Z",
     "start_time": "2022-09-25T11:06:57.643799Z"
    }
   },
   "outputs": [
    {
     "data": {
      "text/plain": [
       "'d'"
      ]
     },
     "execution_count": 9,
     "metadata": {},
     "output_type": "execute_result"
    }
   ],
   "source": [
    "spam[-1]"
   ]
  },
  {
   "cell_type": "markdown",
   "id": "475269a2",
   "metadata": {},
   "source": [
    "Question:5<br>\n",
    "What is the value of spam[:2]?"
   ]
  },
  {
   "cell_type": "code",
   "execution_count": 10,
   "id": "6afae4cc",
   "metadata": {
    "ExecuteTime": {
     "end_time": "2022-09-25T11:06:57.689552Z",
     "start_time": "2022-09-25T11:06:57.677692Z"
    }
   },
   "outputs": [
    {
     "data": {
      "text/plain": [
       "['a', 'b']"
      ]
     },
     "execution_count": 10,
     "metadata": {},
     "output_type": "execute_result"
    }
   ],
   "source": [
    "spam[:2]"
   ]
  },
  {
   "cell_type": "markdown",
   "id": "4e2ac937",
   "metadata": {},
   "source": [
    "# List Update\n",
    "Question:6<br>\n",
    "What is the value of bacon.index('cat')?<br>\n",
    "bacon has the list [3.14, 'cat', 11, 'cat', True]"
   ]
  },
  {
   "cell_type": "raw",
   "id": "4feee999",
   "metadata": {},
   "source": [
    "It return the index value of the 1st occurance"
   ]
  },
  {
   "cell_type": "code",
   "execution_count": 11,
   "id": "11bf84e2",
   "metadata": {
    "ExecuteTime": {
     "end_time": "2022-09-25T11:06:57.777029Z",
     "start_time": "2022-09-25T11:06:57.711803Z"
    }
   },
   "outputs": [
    {
     "data": {
      "text/plain": [
       "1"
      ]
     },
     "execution_count": 11,
     "metadata": {},
     "output_type": "execute_result"
    }
   ],
   "source": [
    "bacon = [3.14, 'cat', 11, 'cat', True]\n",
    "bacon.index('cat')"
   ]
  },
  {
   "cell_type": "markdown",
   "id": "daa80711",
   "metadata": {},
   "source": [
    "Question:7<br>\n",
    "How does bacon.append(99) change the look of the list value in bacon?"
   ]
  },
  {
   "cell_type": "raw",
   "id": "86a6caf3",
   "metadata": {},
   "source": [
    "Append add as a last element in the list\n",
    "bacon = [3.14, 'cat', 11, 'cat', True, 99]"
   ]
  },
  {
   "cell_type": "code",
   "execution_count": 12,
   "id": "09f36c57",
   "metadata": {
    "ExecuteTime": {
     "end_time": "2022-09-25T11:06:57.810484Z",
     "start_time": "2022-09-25T11:06:57.785023Z"
    }
   },
   "outputs": [
    {
     "data": {
      "text/plain": [
       "[3.14, 'cat', 11, 'cat', True, 99]"
      ]
     },
     "execution_count": 12,
     "metadata": {},
     "output_type": "execute_result"
    }
   ],
   "source": [
    "bacon.append(99)\n",
    "bacon"
   ]
  },
  {
   "cell_type": "markdown",
   "id": "f6d85981",
   "metadata": {},
   "source": [
    "Question:8<br>\n",
    "How does bacon.remove('cat') change the look of the list in bacon?"
   ]
  },
  {
   "cell_type": "raw",
   "id": "7bc0a194",
   "metadata": {
    "ExecuteTime": {
     "end_time": "2022-09-25T09:02:25.841342Z",
     "start_time": "2022-09-25T09:02:25.830329Z"
    }
   },
   "source": [
    "It removes the element that occurs 1st in the list"
   ]
  },
  {
   "cell_type": "code",
   "execution_count": 13,
   "id": "60b62274",
   "metadata": {
    "ExecuteTime": {
     "end_time": "2022-09-25T11:06:57.835704Z",
     "start_time": "2022-09-25T11:06:57.820489Z"
    }
   },
   "outputs": [
    {
     "data": {
      "text/plain": [
       "[3.14, 11, 'cat', True, 99]"
      ]
     },
     "execution_count": 13,
     "metadata": {},
     "output_type": "execute_result"
    }
   ],
   "source": [
    "bacon.remove('cat')\n",
    "bacon"
   ]
  },
  {
   "cell_type": "markdown",
   "id": "4b190aea",
   "metadata": {},
   "source": [
    "# Concatenation & Replicator Operator\n",
    "Question:9<br>\n",
    "What are the list concatenation and list replication operators?"
   ]
  },
  {
   "cell_type": "raw",
   "id": "ed5c87fe",
   "metadata": {
    "ExecuteTime": {
     "end_time": "2022-09-25T09:43:19.911718Z",
     "start_time": "2022-09-25T09:43:19.902527Z"
    }
   },
   "source": [
    "List Concatenation Operator: +\n",
    "List Replicator Operator: *"
   ]
  },
  {
   "cell_type": "markdown",
   "id": "7c0121e2",
   "metadata": {},
   "source": [
    "# Append vs Insert\n",
    "Question:10<br>\n",
    "What is difference between the list methods append() and insert()?"
   ]
  },
  {
   "cell_type": "raw",
   "id": "d48f85e5",
   "metadata": {
    "ExecuteTime": {
     "end_time": "2022-09-25T09:49:06.124123Z",
     "start_time": "2022-09-25T09:49:06.114039Z"
    }
   },
   "source": [
    "Insert: Allows us to add a specific element at a specified index of the list.\n",
    "Append: We can add the element only at end of the list."
   ]
  },
  {
   "cell_type": "markdown",
   "id": "a2cd3bf9",
   "metadata": {},
   "source": [
    "# Removing elements\n",
    "Question:11<br>\n",
    "What are the two methods for removing items from a list?"
   ]
  },
  {
   "cell_type": "raw",
   "id": "367d1305",
   "metadata": {},
   "source": [
    "Remove an item by index and get its value: pop()\n",
    "Remove an item by value: remove()\n",
    "\n",
    "Extras:\n",
    "Remove all items: clear()\n",
    "Remove item(s) by index or slice: del"
   ]
  },
  {
   "cell_type": "code",
   "execution_count": 14,
   "id": "060a0dd3",
   "metadata": {
    "ExecuteTime": {
     "end_time": "2022-09-25T11:06:57.863549Z",
     "start_time": "2022-09-25T11:06:57.847092Z"
    }
   },
   "outputs": [
    {
     "data": {
      "text/plain": [
       "20"
      ]
     },
     "execution_count": 14,
     "metadata": {},
     "output_type": "execute_result"
    }
   ],
   "source": [
    "l = [0, 10, 20, 30, 40, 50]\n",
    "l.pop(2)"
   ]
  },
  {
   "cell_type": "code",
   "execution_count": 15,
   "id": "c0d571f3",
   "metadata": {
    "ExecuteTime": {
     "end_time": "2022-09-25T11:06:57.881429Z",
     "start_time": "2022-09-25T11:06:57.872804Z"
    }
   },
   "outputs": [
    {
     "data": {
      "text/plain": [
       "[0, 10, 30, 40, 50]"
      ]
     },
     "execution_count": 15,
     "metadata": {},
     "output_type": "execute_result"
    }
   ],
   "source": [
    "l"
   ]
  },
  {
   "cell_type": "code",
   "execution_count": 16,
   "id": "3ec5c603",
   "metadata": {
    "ExecuteTime": {
     "end_time": "2022-09-25T11:06:57.894597Z",
     "start_time": "2022-09-25T11:06:57.888356Z"
    }
   },
   "outputs": [],
   "source": [
    "l.remove(30)"
   ]
  },
  {
   "cell_type": "code",
   "execution_count": 17,
   "id": "e2c57935",
   "metadata": {
    "ExecuteTime": {
     "end_time": "2022-09-25T11:06:57.913308Z",
     "start_time": "2022-09-25T11:06:57.905203Z"
    }
   },
   "outputs": [
    {
     "data": {
      "text/plain": [
       "[0, 10, 40, 50]"
      ]
     },
     "execution_count": 17,
     "metadata": {},
     "output_type": "execute_result"
    }
   ],
   "source": [
    "l"
   ]
  },
  {
   "cell_type": "markdown",
   "id": "710818b7",
   "metadata": {},
   "source": [
    "# Similarty b/w String & List\n",
    "Question:12<br>\n",
    "Describe how list values and string values are identical."
   ]
  },
  {
   "cell_type": "raw",
   "id": "f6c6b7a9",
   "metadata": {
    "ExecuteTime": {
     "end_time": "2022-09-25T10:10:41.846735Z",
     "start_time": "2022-09-25T10:10:41.828255Z"
    }
   },
   "source": [
    "The similarity between Lists and Strings is that both are sequences"
   ]
  },
  {
   "cell_type": "markdown",
   "id": "5f915e24",
   "metadata": {},
   "source": [
    "# Tuples vs Lists\n",
    "Question:13<br>\n",
    "What's the difference between tuples and lists?"
   ]
  },
  {
   "cell_type": "raw",
   "id": "f4019116",
   "metadata": {},
   "source": [
    "Tuples: immutable (Once created cannot be modified)\n",
    "Lists : mutable   (Can be modified)"
   ]
  },
  {
   "cell_type": "markdown",
   "id": "60c2770e",
   "metadata": {},
   "source": [
    "# Tuple\n",
    "Question:14<br>\n",
    "How do you type a tuple value that only contains the integer 42?"
   ]
  },
  {
   "cell_type": "code",
   "execution_count": 18,
   "id": "2904b2d9",
   "metadata": {
    "ExecuteTime": {
     "end_time": "2022-09-25T11:06:57.932819Z",
     "start_time": "2022-09-25T11:06:57.924737Z"
    }
   },
   "outputs": [
    {
     "data": {
      "text/plain": [
       "tuple"
      ]
     },
     "execution_count": 18,
     "metadata": {},
     "output_type": "execute_result"
    }
   ],
   "source": [
    "l = (42,)\n",
    "type(l)"
   ]
  },
  {
   "cell_type": "markdown",
   "id": "5c7b6494",
   "metadata": {},
   "source": [
    "# List as Tuple & Tuple as List\n",
    "Question:15<br>\n",
    "How do you get a list value's tuple form?<br>\n",
    "How do you get a tuple value's list form?"
   ]
  },
  {
   "cell_type": "code",
   "execution_count": 19,
   "id": "3ae67b3a",
   "metadata": {
    "ExecuteTime": {
     "end_time": "2022-09-25T11:06:57.943456Z",
     "start_time": "2022-09-25T11:06:57.937271Z"
    }
   },
   "outputs": [],
   "source": [
    "l = [0, 10, 20, 30, 40, 50]\n",
    "t = (0, 10, 20, 30, 40, 50)"
   ]
  },
  {
   "cell_type": "code",
   "execution_count": 20,
   "id": "80ac3005",
   "metadata": {
    "ExecuteTime": {
     "end_time": "2022-09-25T11:06:58.020628Z",
     "start_time": "2022-09-25T11:06:57.968447Z"
    }
   },
   "outputs": [
    {
     "data": {
      "text/plain": [
       "(0, 10, 20, 30, 40, 50)"
      ]
     },
     "execution_count": 20,
     "metadata": {},
     "output_type": "execute_result"
    }
   ],
   "source": [
    "tuple(l)"
   ]
  },
  {
   "cell_type": "code",
   "execution_count": 21,
   "id": "3fec5cdd",
   "metadata": {
    "ExecuteTime": {
     "end_time": "2022-09-25T11:06:58.054075Z",
     "start_time": "2022-09-25T11:06:58.033645Z"
    }
   },
   "outputs": [
    {
     "data": {
      "text/plain": [
       "[0, 10, 20, 30, 40, 50]"
      ]
     },
     "execution_count": 21,
     "metadata": {},
     "output_type": "execute_result"
    }
   ],
   "source": [
    "list(t)"
   ]
  },
  {
   "cell_type": "markdown",
   "id": "097c6ef3",
   "metadata": {},
   "source": [
    "# List Values Contains\n",
    "Question:16<br>\n",
    "Variables that \"contain\" list values are not necessarily lists themselves. Instead, what do they contain?"
   ]
  },
  {
   "cell_type": "raw",
   "id": "d96e8252",
   "metadata": {},
   "source": [
    "A list can contain any Python variables"
   ]
  },
  {
   "cell_type": "markdown",
   "id": "15dc375e",
   "metadata": {},
   "source": [
    "# Shallow Copy vs Deep Copy\n",
    "Question:17<br>\n",
    "How do you distinguish between copy.copy() and copy.deepcopy()?"
   ]
  },
  {
   "cell_type": "raw",
   "id": "572aee24",
   "metadata": {},
   "source": [
    "Shallow Copy: Won’t clone child objects. This copy is not fully independent of the original.\n",
    "Deep Copy   : Recursively clone child objects. This clone is fully independent of the original, but is is slower."
   ]
  }
 ],
 "metadata": {
  "kernelspec": {
   "display_name": "Python 3 (ipykernel)",
   "language": "python",
   "name": "python3"
  },
  "language_info": {
   "codemirror_mode": {
    "name": "ipython",
    "version": 3
   },
   "file_extension": ".py",
   "mimetype": "text/x-python",
   "name": "python",
   "nbconvert_exporter": "python",
   "pygments_lexer": "ipython3",
   "version": "3.8.13"
  },
  "toc": {
   "base_numbering": 1,
   "nav_menu": {},
   "number_sections": true,
   "sideBar": true,
   "skip_h1_title": false,
   "title_cell": "Table of Contents",
   "title_sidebar": "Contents",
   "toc_cell": true,
   "toc_position": {},
   "toc_section_display": true,
   "toc_window_display": true
  }
 },
 "nbformat": 4,
 "nbformat_minor": 5
}
