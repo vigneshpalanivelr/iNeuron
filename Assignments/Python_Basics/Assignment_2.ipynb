{
 "cells": [
  {
   "cell_type": "markdown",
   "id": "da4687a8",
   "metadata": {
    "toc": true
   },
   "source": [
    "<h1>Table of Contents<span class=\"tocSkip\"></span></h1>\n",
    "<div class=\"toc\"><ul class=\"toc-item\"><li><span><a href=\"#Boolean-Data-Type\" data-toc-modified-id=\"Boolean-Data-Type-1\"><span class=\"toc-item-num\">1&nbsp;&nbsp;</span>Boolean Data Type</a></span></li><li><span><a href=\"#Types-of-Boolean-Operators\" data-toc-modified-id=\"Types-of-Boolean-Operators-2\"><span class=\"toc-item-num\">2&nbsp;&nbsp;</span>Types of Boolean Operators</a></span></li><li><span><a href=\"#Truth-Table-for-Boolean-Operators\" data-toc-modified-id=\"Truth-Table-for-Boolean-Operators-3\"><span class=\"toc-item-num\">3&nbsp;&nbsp;</span>Truth Table for Boolean Operators</a></span></li><li><span><a href=\"#Evaluvate-Conditions\" data-toc-modified-id=\"Evaluvate-Conditions-4\"><span class=\"toc-item-num\">4&nbsp;&nbsp;</span>Evaluvate Conditions</a></span></li><li><span><a href=\"#All-the-Comparison-Operators\" data-toc-modified-id=\"All-the-Comparison-Operators-5\"><span class=\"toc-item-num\">5&nbsp;&nbsp;</span>All the Comparison Operators</a></span></li><li><span><a href=\"#Diff-b/w-Equal-to-and-Assignment-Operator\" data-toc-modified-id=\"Diff-b/w-Equal-to-and-Assignment-Operator-6\"><span class=\"toc-item-num\">6&nbsp;&nbsp;</span>Diff b/w Equal to and Assignment Operator</a></span></li><li><span><a href=\"#Identify-Blocks\" data-toc-modified-id=\"Identify-Blocks-7\"><span class=\"toc-item-num\">7&nbsp;&nbsp;</span>Identify Blocks</a></span></li><li><span><a href=\"#Write-a-program\" data-toc-modified-id=\"Write-a-program-8\"><span class=\"toc-item-num\">8&nbsp;&nbsp;</span>Write a program</a></span></li><li><span><a href=\"#Stop-Infinite-Loop\" data-toc-modified-id=\"Stop-Infinite-Loop-9\"><span class=\"toc-item-num\">9&nbsp;&nbsp;</span>Stop Infinite Loop</a></span></li><li><span><a href=\"#Diff-b/w-Break-and-Continue\" data-toc-modified-id=\"Diff-b/w-Break-and-Continue-10\"><span class=\"toc-item-num\">10&nbsp;&nbsp;</span>Diff b/w Break and Continue</a></span></li><li><span><a href=\"#range-Difference\" data-toc-modified-id=\"range-Difference-11\"><span class=\"toc-item-num\">11&nbsp;&nbsp;</span>range Difference</a></span></li><li><span><a href=\"#for-vs-while-loop\" data-toc-modified-id=\"for-vs-while-loop-12\"><span class=\"toc-item-num\">12&nbsp;&nbsp;</span>for vs while loop</a></span></li><li><span><a href=\"#Module-fucntion\" data-toc-modified-id=\"Module-fucntion-13\"><span class=\"toc-item-num\">13&nbsp;&nbsp;</span>Module fucntion</a></span></li></ul></div>"
   ]
  },
  {
   "cell_type": "markdown",
   "id": "1521241b",
   "metadata": {},
   "source": [
    "# Boolean Data Type\n",
    "Question:1<br>\n",
    "What are the two values of the Boolean data type? How do you write them?"
   ]
  },
  {
   "cell_type": "code",
   "execution_count": 4,
   "id": "8bdf9a9f",
   "metadata": {
    "ExecuteTime": {
     "end_time": "2022-09-24T11:37:12.969597Z",
     "start_time": "2022-09-24T11:37:12.940138Z"
    }
   },
   "outputs": [
    {
     "data": {
      "text/plain": [
       "True"
      ]
     },
     "execution_count": 4,
     "metadata": {},
     "output_type": "execute_result"
    }
   ],
   "source": [
    "bool(1)"
   ]
  },
  {
   "cell_type": "code",
   "execution_count": 5,
   "id": "dee965b8",
   "metadata": {
    "ExecuteTime": {
     "end_time": "2022-09-24T11:37:23.233930Z",
     "start_time": "2022-09-24T11:37:23.197757Z"
    }
   },
   "outputs": [
    {
     "data": {
      "text/plain": [
       "False"
      ]
     },
     "execution_count": 5,
     "metadata": {},
     "output_type": "execute_result"
    }
   ],
   "source": [
    "bool(0)"
   ]
  },
  {
   "cell_type": "code",
   "execution_count": 8,
   "id": "a78aeff0",
   "metadata": {
    "ExecuteTime": {
     "end_time": "2022-09-24T11:38:44.414888Z",
     "start_time": "2022-09-24T11:38:44.344628Z"
    }
   },
   "outputs": [
    {
     "data": {
      "text/plain": [
       "True"
      ]
     },
     "execution_count": 8,
     "metadata": {},
     "output_type": "execute_result"
    }
   ],
   "source": [
    "True"
   ]
  },
  {
   "cell_type": "code",
   "execution_count": 9,
   "id": "107519a3",
   "metadata": {
    "ExecuteTime": {
     "end_time": "2022-09-24T11:38:50.082698Z",
     "start_time": "2022-09-24T11:38:50.054448Z"
    }
   },
   "outputs": [
    {
     "data": {
      "text/plain": [
       "False"
      ]
     },
     "execution_count": 9,
     "metadata": {},
     "output_type": "execute_result"
    }
   ],
   "source": [
    "False"
   ]
  },
  {
   "cell_type": "markdown",
   "id": "7a20f07c",
   "metadata": {},
   "source": [
    "# Types of Boolean Operators"
   ]
  },
  {
   "cell_type": "markdown",
   "id": "acf563cb",
   "metadata": {},
   "source": [
    "Question:2<br>\n",
    "What are the three different types of Boolean operators?"
   ]
  },
  {
   "cell_type": "markdown",
   "id": "59b8b4ac",
   "metadata": {
    "ExecuteTime": {
     "end_time": "2022-09-24T12:01:57.003447Z",
     "start_time": "2022-09-24T12:01:56.980791Z"
    }
   },
   "source": [
    "The logical operators **and, or, not** are also referred to as Boolean operators"
   ]
  },
  {
   "cell_type": "markdown",
   "id": "24a5e3f0",
   "metadata": {},
   "source": [
    "# Truth Table for Boolean Operators"
   ]
  },
  {
   "cell_type": "markdown",
   "id": "4556e772",
   "metadata": {},
   "source": [
    "Question:3\n",
    "Make a list of each Boolean operators truth tables (i.e. every possible combination of Boolean"
   ]
  },
  {
   "cell_type": "markdown",
   "id": "d1a3785b",
   "metadata": {},
   "source": [
    "| Operator | Representation | Value     | Description               |\n",
    "| -------  | -------------- | --------- | ------------------------- |\n",
    "| and      | True and True  | **True**  | if both are True\t        |\n",
    "| and      | True and False | **False** | if at least one is False  |\n",
    "| or       | True or  False | **True**  | if at least one is True   |\n",
    "| or       | False or False | **False** | if both are False.        |\n",
    "| not      | not False      | **True**  | only if False             |\n",
    "| not      | not True       | **False** | only if True              |"
   ]
  },
  {
   "cell_type": "markdown",
   "id": "152d959d",
   "metadata": {},
   "source": [
    "# Evaluvate Conditions\n",
    "Question:4<br>\n",
    "What are the values of the following expressions?"
   ]
  },
  {
   "cell_type": "code",
   "execution_count": 13,
   "id": "39d89d68",
   "metadata": {
    "ExecuteTime": {
     "end_time": "2022-09-24T12:24:41.083368Z",
     "start_time": "2022-09-24T12:24:41.038251Z"
    }
   },
   "outputs": [
    {
     "data": {
      "text/plain": [
       "False"
      ]
     },
     "execution_count": 13,
     "metadata": {},
     "output_type": "execute_result"
    }
   ],
   "source": [
    "(5 > 4) and (3 == 5)\n",
    "# True and False --> False"
   ]
  },
  {
   "cell_type": "code",
   "execution_count": 15,
   "id": "7e4b0258",
   "metadata": {
    "ExecuteTime": {
     "end_time": "2022-09-24T12:25:14.596444Z",
     "start_time": "2022-09-24T12:25:14.589781Z"
    }
   },
   "outputs": [
    {
     "data": {
      "text/plain": [
       "False"
      ]
     },
     "execution_count": 15,
     "metadata": {},
     "output_type": "execute_result"
    }
   ],
   "source": [
    "not (5 > 4)\n",
    "# not True       --> Flase"
   ]
  },
  {
   "cell_type": "code",
   "execution_count": 16,
   "id": "5567c40c",
   "metadata": {
    "ExecuteTime": {
     "end_time": "2022-09-24T12:25:44.542886Z",
     "start_time": "2022-09-24T12:25:44.510613Z"
    }
   },
   "outputs": [
    {
     "data": {
      "text/plain": [
       "True"
      ]
     },
     "execution_count": 16,
     "metadata": {},
     "output_type": "execute_result"
    }
   ],
   "source": [
    "(5 > 4) or (3 == 5)\n",
    "# True aor False --> True"
   ]
  },
  {
   "cell_type": "code",
   "execution_count": 17,
   "id": "b3032821",
   "metadata": {
    "ExecuteTime": {
     "end_time": "2022-09-24T12:26:23.307297Z",
     "start_time": "2022-09-24T12:26:23.299757Z"
    }
   },
   "outputs": [
    {
     "data": {
      "text/plain": [
       "False"
      ]
     },
     "execution_count": 17,
     "metadata": {},
     "output_type": "execute_result"
    }
   ],
   "source": [
    "not ((5 > 4) or (3 == 5))\n",
    "# not (True or False) --> False"
   ]
  },
  {
   "cell_type": "code",
   "execution_count": 18,
   "id": "c5c27934",
   "metadata": {
    "ExecuteTime": {
     "end_time": "2022-09-24T12:26:56.707225Z",
     "start_time": "2022-09-24T12:26:56.699279Z"
    }
   },
   "outputs": [
    {
     "data": {
      "text/plain": [
       "False"
      ]
     },
     "execution_count": 18,
     "metadata": {},
     "output_type": "execute_result"
    }
   ],
   "source": [
    "(True and True) and (True == False)\n",
    "# True and False --> Flase"
   ]
  },
  {
   "cell_type": "code",
   "execution_count": 20,
   "id": "ea1d858d",
   "metadata": {
    "ExecuteTime": {
     "end_time": "2022-09-24T12:27:16.037370Z",
     "start_time": "2022-09-24T12:27:16.028857Z"
    }
   },
   "outputs": [
    {
     "data": {
      "text/plain": [
       "True"
      ]
     },
     "execution_count": 20,
     "metadata": {},
     "output_type": "execute_result"
    }
   ],
   "source": [
    "(not False) or (not True) # True"
   ]
  },
  {
   "cell_type": "markdown",
   "id": "7a2a146d",
   "metadata": {},
   "source": [
    "# All the Comparison Operators\n",
    "Question:5<br>\n",
    "What are the six comparison operators?"
   ]
  },
  {
   "cell_type": "markdown",
   "id": "d1c55e95",
   "metadata": {
    "ExecuteTime": {
     "end_time": "2022-09-24T12:35:56.605493Z",
     "start_time": "2022-09-24T12:35:56.595980Z"
    }
   },
   "source": [
    "| N | Operator | Title                    |\n",
    "| - | -------- | -------------------------|\n",
    "| 1 | ==       | Equal to                 |\n",
    "| 2 | !=       | Not Equal to             |\n",
    "| 3 | <        | Less Than                |\n",
    "| 4 | >        | Greater Than             |\n",
    "| 5 | <=       | Less Than or Equal to    |\n",
    "| 6 | >=       | Greater Than or Equal to |"
   ]
  },
  {
   "cell_type": "markdown",
   "id": "d18645f8",
   "metadata": {},
   "source": [
    "# Diff b/w Equal to and Assignment Operator"
   ]
  },
  {
   "cell_type": "markdown",
   "id": "a4c1c086",
   "metadata": {
    "ExecuteTime": {
     "end_time": "2022-09-24T12:38:59.484428Z",
     "start_time": "2022-09-24T12:38:59.475747Z"
    }
   },
   "source": [
    "Question:6<br>\n",
    "How do you tell the difference between the equal to and assignment operators?<br>\n",
    "Describe a condition and when you would use one"
   ]
  },
  {
   "cell_type": "markdown",
   "id": "eff528f9",
   "metadata": {},
   "source": [
    "Assignment Operator:<br>\n",
    "The representation of **Assignment Operator** is **=**<br>\n",
    "It assigns value to one or more variable(s)<br><br>\n",
    "\n",
    "Equal To Operator:<br>\n",
    "The representation of **Equal to Operator** is **==**<br>\n",
    "It evaluvates the Operands and returns boolean Value<br>"
   ]
  },
  {
   "cell_type": "code",
   "execution_count": 23,
   "id": "e427294d",
   "metadata": {
    "ExecuteTime": {
     "end_time": "2022-09-24T12:45:11.650926Z",
     "start_time": "2022-09-24T12:45:11.644995Z"
    }
   },
   "outputs": [],
   "source": [
    "# It assigns value to one or more variable(s)\n",
    "x = 10"
   ]
  },
  {
   "cell_type": "code",
   "execution_count": 24,
   "id": "7dcb1efb",
   "metadata": {
    "ExecuteTime": {
     "end_time": "2022-09-24T12:45:28.079654Z",
     "start_time": "2022-09-24T12:45:28.060040Z"
    }
   },
   "outputs": [
    {
     "data": {
      "text/plain": [
       "True"
      ]
     },
     "execution_count": 24,
     "metadata": {},
     "output_type": "execute_result"
    }
   ],
   "source": [
    "# It evaluvates the Operands and returns boolean Value\n",
    "x == 10"
   ]
  },
  {
   "cell_type": "markdown",
   "id": "7ff494c4",
   "metadata": {},
   "source": [
    "# Identify Blocks\n",
    "Question:7<br>\n",
    "Identify the three blocks in this code"
   ]
  },
  {
   "cell_type": "code",
   "execution_count": 27,
   "id": "43f13e9c",
   "metadata": {
    "ExecuteTime": {
     "end_time": "2022-09-24T12:49:54.771023Z",
     "start_time": "2022-09-24T12:49:54.763637Z"
    }
   },
   "outputs": [
    {
     "name": "stdout",
     "output_type": "stream",
     "text": [
      "ham\n",
      "spam\n",
      "Spam\n"
     ]
    }
   ],
   "source": [
    "spam = 0\n",
    "\n",
    "# Block-1\n",
    "if spam == 10:\n",
    "    print(\"eggs\")\n",
    "\n",
    "# Block-2\n",
    "if spam > 5:\n",
    "    print(\"bacon\")\n",
    "# Block-3\n",
    "else:\n",
    "    print(\"ham\")\n",
    "    print(\"spam\")\n",
    "    print(\"Spam\")"
   ]
  },
  {
   "cell_type": "markdown",
   "id": "65645fa0",
   "metadata": {},
   "source": [
    "# Write a program\n",
    "Write code<br>\n",
    "Print Hello if 1 is stored in spam<br>\n",
    "Print Howdy if 2 is stored in spam and<br>\n",
    "Print Greetings! if anything else is stored in spam"
   ]
  },
  {
   "cell_type": "code",
   "execution_count": 32,
   "id": "0290a541",
   "metadata": {
    "ExecuteTime": {
     "end_time": "2022-09-24T12:54:01.789550Z",
     "start_time": "2022-09-24T12:54:01.782985Z"
    }
   },
   "outputs": [
    {
     "name": "stdout",
     "output_type": "stream",
     "text": [
      "Greetings!\n"
     ]
    }
   ],
   "source": [
    "spam = ''\n",
    "\n",
    "if spam == 1:\n",
    "    print('Hello')\n",
    "elif spam == 2:\n",
    "    print('Howdy')\n",
    "else:\n",
    "    print('Greetings!')"
   ]
  },
  {
   "cell_type": "markdown",
   "id": "78005bfe",
   "metadata": {},
   "source": [
    "# Stop Infinite Loop\n",
    "Question:9<br>\n",
    "If your programme is stuck in an endless loop, what keys you’ll press?"
   ]
  },
  {
   "cell_type": "markdown",
   "id": "bfe7b82c",
   "metadata": {},
   "source": [
    "CTRL + C"
   ]
  },
  {
   "cell_type": "markdown",
   "id": "4a6d7ae7",
   "metadata": {},
   "source": [
    "# Diff b/w Break and Continue\n",
    "Question:10<br>\n",
    "How can you tell the difference between break and continue?<br><br>\n",
    "\n",
    "When **break** keyword comes, it **terminates the current iteration** and passes the control over the next iteration or main body.<br>\n",
    "When **continue** keyword is encountered, it **skips the current iteration** and executes the very next iteration in the loop."
   ]
  },
  {
   "cell_type": "markdown",
   "id": "fc332dcb",
   "metadata": {
    "ExecuteTime": {
     "end_time": "2022-09-24T13:06:06.672728Z",
     "start_time": "2022-09-24T13:06:06.663157Z"
    }
   },
   "source": [
    "# range Difference\n",
    "Question:11<br>\n",
    "In a for loop, what is the difference between range(10), range(0, 10), and range(0, 10, 1)?<br><br>\n",
    "--> **No difference at all / all are same**"
   ]
  },
  {
   "cell_type": "code",
   "execution_count": 34,
   "id": "4682eafe",
   "metadata": {
    "ExecuteTime": {
     "end_time": "2022-09-24T13:06:13.192698Z",
     "start_time": "2022-09-24T13:06:13.185560Z"
    }
   },
   "outputs": [
    {
     "data": {
      "text/plain": [
       "range(0, 10)"
      ]
     },
     "execution_count": 34,
     "metadata": {},
     "output_type": "execute_result"
    }
   ],
   "source": [
    "range(10)"
   ]
  },
  {
   "cell_type": "code",
   "execution_count": 35,
   "id": "e81fdc7d",
   "metadata": {
    "ExecuteTime": {
     "end_time": "2022-09-24T13:06:22.177484Z",
     "start_time": "2022-09-24T13:06:22.169323Z"
    }
   },
   "outputs": [
    {
     "data": {
      "text/plain": [
       "range(0, 10)"
      ]
     },
     "execution_count": 35,
     "metadata": {},
     "output_type": "execute_result"
    }
   ],
   "source": [
    "range(0, 10)"
   ]
  },
  {
   "cell_type": "code",
   "execution_count": 36,
   "id": "de2cc24a",
   "metadata": {
    "ExecuteTime": {
     "end_time": "2022-09-24T13:06:29.819496Z",
     "start_time": "2022-09-24T13:06:29.811264Z"
    }
   },
   "outputs": [
    {
     "data": {
      "text/plain": [
       "range(0, 10)"
      ]
     },
     "execution_count": 36,
     "metadata": {},
     "output_type": "execute_result"
    }
   ],
   "source": [
    "range(0, 10, 1)"
   ]
  },
  {
   "cell_type": "code",
   "execution_count": 37,
   "id": "07446465",
   "metadata": {
    "ExecuteTime": {
     "end_time": "2022-09-24T13:06:59.211693Z",
     "start_time": "2022-09-24T13:06:59.203469Z"
    }
   },
   "outputs": [
    {
     "data": {
      "text/plain": [
       "[0, 1, 2, 3, 4, 5, 6, 7, 8, 9]"
      ]
     },
     "execution_count": 37,
     "metadata": {},
     "output_type": "execute_result"
    }
   ],
   "source": [
    "[i for i in range(10)]"
   ]
  },
  {
   "cell_type": "code",
   "execution_count": 38,
   "id": "b472b2ed",
   "metadata": {
    "ExecuteTime": {
     "end_time": "2022-09-24T13:07:08.146338Z",
     "start_time": "2022-09-24T13:07:08.138698Z"
    }
   },
   "outputs": [
    {
     "data": {
      "text/plain": [
       "[0, 1, 2, 3, 4, 5, 6, 7, 8, 9]"
      ]
     },
     "execution_count": 38,
     "metadata": {},
     "output_type": "execute_result"
    }
   ],
   "source": [
    "[i for i in range(0, 10)]"
   ]
  },
  {
   "cell_type": "code",
   "execution_count": 39,
   "id": "c6264009",
   "metadata": {
    "ExecuteTime": {
     "end_time": "2022-09-24T13:07:26.313986Z",
     "start_time": "2022-09-24T13:07:26.303580Z"
    }
   },
   "outputs": [
    {
     "data": {
      "text/plain": [
       "[0, 1, 2, 3, 4, 5, 6, 7, 8, 9]"
      ]
     },
     "execution_count": 39,
     "metadata": {},
     "output_type": "execute_result"
    }
   ],
   "source": [
    "[i for i in range(0, 10, 1)]"
   ]
  },
  {
   "cell_type": "markdown",
   "id": "ed14cb67",
   "metadata": {},
   "source": [
    "# for vs while loop\n",
    "Question:12<br>\n",
    "Write a short program that prints the numbers 1 to 10 using a for loop.<br>\n",
    "Write an equivalent program that prints the numbers 1 to 10 using a while loop."
   ]
  },
  {
   "cell_type": "code",
   "execution_count": 40,
   "id": "e1e93373",
   "metadata": {
    "ExecuteTime": {
     "end_time": "2022-09-24T13:11:57.398056Z",
     "start_time": "2022-09-24T13:11:57.391778Z"
    }
   },
   "outputs": [
    {
     "name": "stdout",
     "output_type": "stream",
     "text": [
      "1\n",
      "2\n",
      "3\n",
      "4\n",
      "5\n",
      "6\n",
      "7\n",
      "8\n",
      "9\n",
      "10\n"
     ]
    }
   ],
   "source": [
    "# Print numbers using for loop\n",
    "for i in range(1, 11):\n",
    "    print(i)"
   ]
  },
  {
   "cell_type": "code",
   "execution_count": 41,
   "id": "c6fc517e",
   "metadata": {
    "ExecuteTime": {
     "end_time": "2022-09-24T13:14:34.152662Z",
     "start_time": "2022-09-24T13:14:34.135328Z"
    }
   },
   "outputs": [
    {
     "name": "stdout",
     "output_type": "stream",
     "text": [
      "1\n",
      "2\n",
      "3\n",
      "4\n",
      "5\n",
      "6\n",
      "7\n",
      "8\n",
      "9\n",
      "10\n"
     ]
    }
   ],
   "source": [
    "# Print numbers using while loop\n",
    "i = 1\n",
    "while i > 0:\n",
    "    print(i)\n",
    "    if i == 10:\n",
    "        break\n",
    "    i += 1"
   ]
  },
  {
   "cell_type": "markdown",
   "id": "1afaeadd",
   "metadata": {
    "ExecuteTime": {
     "end_time": "2022-09-24T13:15:58.429074Z",
     "start_time": "2022-09-24T13:15:58.420863Z"
    }
   },
   "source": [
    "# Module fucntion\n",
    "Question:13<br>\n",
    "If you had a function named bacon() inside a module named spam, how would you call it after importing spam?"
   ]
  },
  {
   "cell_type": "markdown",
   "id": "dca0aadc",
   "metadata": {},
   "source": [
    "spam.bacon()"
   ]
  }
 ],
 "metadata": {
  "kernelspec": {
   "display_name": "Python 3 (ipykernel)",
   "language": "python",
   "name": "python3"
  },
  "language_info": {
   "codemirror_mode": {
    "name": "ipython",
    "version": 3
   },
   "file_extension": ".py",
   "mimetype": "text/x-python",
   "name": "python",
   "nbconvert_exporter": "python",
   "pygments_lexer": "ipython3",
   "version": "3.8.13"
  },
  "toc": {
   "base_numbering": 1,
   "nav_menu": {},
   "number_sections": true,
   "sideBar": true,
   "skip_h1_title": false,
   "title_cell": "Table of Contents",
   "title_sidebar": "Contents",
   "toc_cell": true,
   "toc_position": {
    "height": "calc(100% - 180px)",
    "left": "10px",
    "top": "150px",
    "width": "251px"
   },
   "toc_section_display": true,
   "toc_window_display": true
  }
 },
 "nbformat": 4,
 "nbformat_minor": 5
}
