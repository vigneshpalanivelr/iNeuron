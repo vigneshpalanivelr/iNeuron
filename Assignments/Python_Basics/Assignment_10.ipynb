{
 "cells": [
  {
   "cell_type": "markdown",
   "id": "3b964a6b",
   "metadata": {
    "toc": true
   },
   "source": [
    "<h1>Table of Contents<span class=\"tocSkip\"></span></h1>\n",
    "<div class=\"toc\"><ul class=\"toc-item\"><li><span><a href=\"#Copy-File-vs-Copy-Directory\" data-toc-modified-id=\"Copy-File-vs-Copy-Directory-1\"><span class=\"toc-item-num\">1&nbsp;&nbsp;</span>Copy File vs Copy Directory</a></span></li><li><span><a href=\"#Rename-File\" data-toc-modified-id=\"Rename-File-2\"><span class=\"toc-item-num\">2&nbsp;&nbsp;</span>Rename File</a></span></li><li><span><a href=\"#shutil-vs-send2trash\" data-toc-modified-id=\"shutil-vs-send2trash-3\"><span class=\"toc-item-num\">3&nbsp;&nbsp;</span>shutil vs send2trash</a></span></li><li><span><a href=\"#open()-in-ZipFile\" data-toc-modified-id=\"open()-in-ZipFile-4\"><span class=\"toc-item-num\">4&nbsp;&nbsp;</span>open() in ZipFile</a></span></li><li><span><a href=\"#Find-and-Copy-Files\" data-toc-modified-id=\"Find-and-Copy-Files-5\"><span class=\"toc-item-num\">5&nbsp;&nbsp;</span>Find and Copy Files</a></span></li></ul></div>"
   ]
  },
  {
   "cell_type": "code",
   "execution_count": null,
   "id": "5f4b1037",
   "metadata": {},
   "outputs": [],
   "source": [
    "Create a programme that searches a folder tree for files with a certain file extension (such as .pdf\n",
    "or .jpg). Copy these files from whatever location they are in to a new folder."
   ]
  },
  {
   "cell_type": "markdown",
   "id": "77593ba2",
   "metadata": {},
   "source": [
    "# Copy File vs Copy Directory\n",
    "**Question:1**<br>\n",
    "How do you distinguish between shutil.copy() and shutil.copytree()?"
   ]
  },
  {
   "cell_type": "raw",
   "id": "729d3dc5",
   "metadata": {},
   "source": [
    "shutil.copy()    : Will copy a single file\n",
    "shutil.copytree(): Will copy an entire directory, sub-directories and Files in it"
   ]
  },
  {
   "cell_type": "markdown",
   "id": "9ea5fc70",
   "metadata": {},
   "source": [
    "# Rename File\n",
    "**Question:2**<br>\n",
    "What function is used to rename files??"
   ]
  },
  {
   "cell_type": "raw",
   "id": "25a12f21",
   "metadata": {},
   "source": [
    "shutil.move(src, dst): Which is nothing but a Rename"
   ]
  },
  {
   "cell_type": "markdown",
   "id": "d70d10cf",
   "metadata": {},
   "source": [
    "# shutil vs send2trash\n",
    "**Question:3**<br>\n",
    "What is the difference between the delete functions in the send2trash and shutil modules?"
   ]
  },
  {
   "cell_type": "raw",
   "id": "885d8f44",
   "metadata": {},
   "source": [
    "send2trash: Will move a file or folder to the recycle bin.\n",
    "shutil functions: Will permanently delete files and folders."
   ]
  },
  {
   "cell_type": "markdown",
   "id": "b8a70a0e",
   "metadata": {},
   "source": [
    "# open() in ZipFile\n",
    "**Question:4**<br>\n",
    "ZipFile objects have a close() method just like File objects’ close() method.<br>\n",
    "What ZipFile method is equivalent to File objects’ open() method?"
   ]
  },
  {
   "cell_type": "raw",
   "id": "11fc1c4f",
   "metadata": {},
   "source": [
    "zipfile.ZipFile() function is equivalent to the open() function"
   ]
  },
  {
   "cell_type": "markdown",
   "id": "74f58859",
   "metadata": {},
   "source": [
    "# Find and Copy Files\n",
    "**Question:5**<br>\n",
    "Create a programme that searches a folder tree for files with a certain file extension (such as .pdf or .jpg).<br>\n",
    "Copy these files from whatever location they are in to a new folder."
   ]
  },
  {
   "cell_type": "code",
   "execution_count": 16,
   "id": "413ea900",
   "metadata": {
    "ExecuteTime": {
     "end_time": "2022-10-09T12:32:48.472454Z",
     "start_time": "2022-10-09T12:32:48.460527Z"
    }
   },
   "outputs": [],
   "source": [
    "import os\n",
    "import glob\n",
    "import shutil\n",
    "\n",
    "# Capable to filter only one extension\n",
    "def find_files_using_glob(dir, extsn):\n",
    "    return glob.glob(os.path.join(dir,f\"*.{extsn}\"))\n",
    "\n",
    "# Capable to filter only one extension\n",
    "def find_files_using_os(dir, extsn):\n",
    "    return [f for f in os.listdir(dir) if os.path.isfile(f) and f.endswith(extsn)]\n",
    "\n",
    "# Capable to filter multiple extensions\n",
    "def find_files_using_os_lambda_list_comprehension(dir, extsn):\n",
    "    return filter(lambda f: f.endswith(extsn), [os.path.join(dir,f) for f in os.listdir(dir) if os.path.isfile(os.path.join(dir,f))])"
   ]
  },
  {
   "cell_type": "code",
   "execution_count": 26,
   "id": "61c4ac61",
   "metadata": {
    "ExecuteTime": {
     "end_time": "2022-10-09T12:16:09.357480Z",
     "start_time": "2022-10-09T12:16:09.319912Z"
    },
    "deletable": false,
    "editable": false,
    "run_control": {
     "frozen": true
    }
   },
   "outputs": [
    {
     "name": "stdout",
     "output_type": "stream",
     "text": [
      "/Users/dhivyamalathirajasekaran/PycharmProjects/MLProjects/PythonMaterials/templates/shutil-copy2.txt\n",
      "/Users/dhivyamalathirajasekaran/PycharmProjects/MLProjects/PythonMaterials/templates/shutil-copy.txt\n",
      "/Users/dhivyamalathirajasekaran/PycharmProjects/MLProjects/PythonMaterials/templates/write.txt\n",
      "/Users/dhivyamalathirajasekaran/PycharmProjects/MLProjects/PythonMaterials/templates/shutil-movefile.txt\n"
     ]
    }
   ],
   "source": [
    "src_dir = '/Users/dhivyamalathirajasekaran/PycharmProjects/MLProjects/PythonMaterials/supported-files'\n",
    "dst_dir = '/Users/dhivyamalathirajasekaran/PycharmProjects/MLProjects/PythonMaterials/templates'\n",
    "extsn = 'txt'\n",
    "\n",
    "# If we need to pass multiple extensions need one more for-loop\n",
    "for file in find_files_using_glob(src_dir, extsn):\n",
    "    dest = shutil.copy(file, dst_dir)\n",
    "    print(dest)"
   ]
  },
  {
   "cell_type": "code",
   "execution_count": 21,
   "id": "0bf01812",
   "metadata": {
    "ExecuteTime": {
     "end_time": "2022-10-09T12:37:06.763884Z",
     "start_time": "2022-10-09T12:37:06.747366Z"
    },
    "deletable": false,
    "editable": false,
    "run_control": {
     "frozen": true
    }
   },
   "outputs": [
    {
     "name": "stdout",
     "output_type": "stream",
     "text": [
      "/Users/dhivyamalathirajasekaran/PycharmProjects/MLProjects/PythonMaterials/templates/shutil-copy2.txt\n",
      "/Users/dhivyamalathirajasekaran/PycharmProjects/MLProjects/PythonMaterials/templates/shutil-copy.txt\n",
      "/Users/dhivyamalathirajasekaran/PycharmProjects/MLProjects/PythonMaterials/templates/write.txt\n",
      "/Users/dhivyamalathirajasekaran/PycharmProjects/MLProjects/PythonMaterials/templates/shutil-movefile.txt\n"
     ]
    }
   ],
   "source": [
    "src_dir = '/Users/dhivyamalathirajasekaran/PycharmProjects/MLProjects/PythonMaterials/supported-files'\n",
    "dst_dir = '/Users/dhivyamalathirajasekaran/PycharmProjects/MLProjects/PythonMaterials/templates'\n",
    "extsn = ('.txt', '.pdf', '.jpg')\n",
    "\n",
    "# Supports Multiple Extension\n",
    "for file in find_files_using_os_lambda_list_comprehension(src_dir, extsn):\n",
    "    dest = shutil.copy(file, dst_dir)\n",
    "    print(dest)"
   ]
  },
  {
   "cell_type": "code",
   "execution_count": 22,
   "id": "f8061aa2",
   "metadata": {
    "ExecuteTime": {
     "end_time": "2022-10-09T12:37:09.708990Z",
     "start_time": "2022-10-09T12:37:09.698369Z"
    },
    "deletable": false,
    "editable": false,
    "run_control": {
     "frozen": true
    }
   },
   "outputs": [
    {
     "name": "stdout",
     "output_type": "stream",
     "text": [
      "/Users/dhivyamalathirajasekaran/PycharmProjects/MLProjects/PythonMaterials/templates/shutil-copy2.txt\n",
      "/Users/dhivyamalathirajasekaran/PycharmProjects/MLProjects/PythonMaterials/templates/shutil-copy.txt\n",
      "/Users/dhivyamalathirajasekaran/PycharmProjects/MLProjects/PythonMaterials/templates/write.txt\n",
      "/Users/dhivyamalathirajasekaran/PycharmProjects/MLProjects/PythonMaterials/templates/shutil-movefile.txt\n"
     ]
    }
   ],
   "source": [
    "src_dir = '/Users/dhivyamalathirajasekaran/PycharmProjects/MLProjects/PythonMaterials/supported-files'\n",
    "dst_dir = '/Users/dhivyamalathirajasekaran/PycharmProjects/MLProjects/PythonMaterials/templates'\n",
    "extsn = ('.txt', '.pdf', '.jpg')\n",
    "\n",
    "for i in find_files_using_os_lambda_list_comprehension(dst_dir, extsn):\n",
    "    print(i)\n",
    "    os.remove(i)"
   ]
  },
  {
   "cell_type": "code",
   "execution_count": null,
   "id": "aa0e7779",
   "metadata": {},
   "outputs": [],
   "source": []
  }
 ],
 "metadata": {
  "kernelspec": {
   "display_name": "Python 3 (ipykernel)",
   "language": "python",
   "name": "python3"
  },
  "language_info": {
   "codemirror_mode": {
    "name": "ipython",
    "version": 3
   },
   "file_extension": ".py",
   "mimetype": "text/x-python",
   "name": "python",
   "nbconvert_exporter": "python",
   "pygments_lexer": "ipython3",
   "version": "3.8.13"
  },
  "toc": {
   "base_numbering": 1,
   "nav_menu": {},
   "number_sections": true,
   "sideBar": true,
   "skip_h1_title": false,
   "title_cell": "Table of Contents",
   "title_sidebar": "Contents",
   "toc_cell": true,
   "toc_position": {},
   "toc_section_display": false,
   "toc_window_display": true
  }
 },
 "nbformat": 4,
 "nbformat_minor": 5
}
