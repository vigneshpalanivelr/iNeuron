{
 "cells": [
  {
   "cell_type": "markdown",
   "id": "297da48d",
   "metadata": {
    "toc": true
   },
   "source": [
    "<h1>Table of Contents<span class=\"tocSkip\"></span></h1>\n",
    "<div class=\"toc\"><ul class=\"toc-item\"><li><span><a href=\"#RegEx-Objects\" data-toc-modified-id=\"RegEx-Objects-1\"><span class=\"toc-item-num\">1&nbsp;&nbsp;</span>RegEx Objects</a></span></li><li><span><a href=\"#Raw-Strings-in-RegEx\" data-toc-modified-id=\"Raw-Strings-in-RegEx-2\"><span class=\"toc-item-num\">2&nbsp;&nbsp;</span>Raw Strings in RegEx</a></span></li><li><span><a href=\"#Return-Value-of-search()\" data-toc-modified-id=\"Return-Value-of-search()-3\"><span class=\"toc-item-num\">3&nbsp;&nbsp;</span>Return Value of search()</a></span></li><li><span><a href=\"#Matched-String\" data-toc-modified-id=\"Matched-String-4\"><span class=\"toc-item-num\">4&nbsp;&nbsp;</span>Matched String</a></span></li><li><span><a href=\"#Find-the-Value\" data-toc-modified-id=\"Find-the-Value-5\"><span class=\"toc-item-num\">5&nbsp;&nbsp;</span>Find the Value</a></span></li><li><span><a href=\"#How-to-escape-period-and-parathesis\" data-toc-modified-id=\"How-to-escape-period-and-parathesis-6\"><span class=\"toc-item-num\">6&nbsp;&nbsp;</span>How to escape period and parathesis</a></span></li><li><span><a href=\"#Return-Group-and-List\" data-toc-modified-id=\"Return-Group-and-List-7\"><span class=\"toc-item-num\">7&nbsp;&nbsp;</span>Return Group and List</a></span></li><li><span><a href=\"#Standard-|-Means\" data-toc-modified-id=\"Standard-|-Means-8\"><span class=\"toc-item-num\">8&nbsp;&nbsp;</span>Standard | Means</a></span></li><li><span><a href=\"#RegEx-|-Means\" data-toc-modified-id=\"RegEx-|-Means-9\"><span class=\"toc-item-num\">9&nbsp;&nbsp;</span>RegEx | Means</a></span></li><li><span><a href=\"#+-vs-*-in-RegEx\" data-toc-modified-id=\"+-vs-*-in-RegEx-10\"><span class=\"toc-item-num\">10&nbsp;&nbsp;</span>+ vs * in RegEx</a></span></li><li><span><a href=\"#Limiting-the-Chars\" data-toc-modified-id=\"Limiting-the-Chars-11\"><span class=\"toc-item-num\">11&nbsp;&nbsp;</span>Limiting the Chars</a></span></li><li><span><a href=\"#Character-Classes\" data-toc-modified-id=\"Character-Classes-12\"><span class=\"toc-item-num\">12&nbsp;&nbsp;</span>Character Classes</a></span></li><li><span><a href=\"#Character-Classes\" data-toc-modified-id=\"Character-Classes-13\"><span class=\"toc-item-num\">13&nbsp;&nbsp;</span>Character Classes</a></span></li><li><span><a href=\"#Difference-(.*?)-and-(.*)?\" data-toc-modified-id=\"Difference-(.*?)-and-(.*)?-14\"><span class=\"toc-item-num\">14&nbsp;&nbsp;</span>Difference (.*?) and (.*)?</a></span></li><li><span><a href=\"#Numbers-and-Lowercase-letters\" data-toc-modified-id=\"Numbers-and-Lowercase-letters-15\"><span class=\"toc-item-num\">15&nbsp;&nbsp;</span>Numbers and Lowercase letters</a></span></li><li><span><a href=\"#re.IGNORECASE\" data-toc-modified-id=\"re.IGNORECASE-16\"><span class=\"toc-item-num\">16&nbsp;&nbsp;</span>re.IGNORECASE</a></span></li><li><span><a href=\"#Use-of-re.DOTALL\" data-toc-modified-id=\"Use-of-re.DOTALL-17\"><span class=\"toc-item-num\">17&nbsp;&nbsp;</span>Use of re.DOTALL</a></span></li><li><span><a href=\"#Find-the-Answer\" data-toc-modified-id=\"Find-the-Answer-18\"><span class=\"toc-item-num\">18&nbsp;&nbsp;</span>Find the Answer</a></span></li><li><span><a href=\"#Use-of-re.VERBOSE\" data-toc-modified-id=\"Use-of-re.VERBOSE-19\"><span class=\"toc-item-num\">19&nbsp;&nbsp;</span>Use of re.VERBOSE</a></span></li><li><span><a href=\"#Applications\" data-toc-modified-id=\"Applications-20\"><span class=\"toc-item-num\">20&nbsp;&nbsp;</span>Applications</a></span></li></ul></div>"
   ]
  },
  {
   "cell_type": "markdown",
   "id": "2ef27980",
   "metadata": {},
   "source": [
    "# RegEx Objects\n",
    "Question:1<br>\n",
    "What is the name of the feature responsible for generating Regex objects?"
   ]
  },
  {
   "cell_type": "raw",
   "id": "12976d76",
   "metadata": {},
   "source": [
    "re. compile() function returns Regex objects."
   ]
  },
  {
   "cell_type": "markdown",
   "id": "cbe96168",
   "metadata": {},
   "source": [
    "# Raw Strings in RegEx\n",
    "Question:2<br>\n",
    "Why do raw strings often appear in Regex objects?"
   ]
  },
  {
   "cell_type": "raw",
   "id": "6f16c0b7",
   "metadata": {},
   "source": [
    "Raw strings are used so that backslashes do not have to be escaped."
   ]
  },
  {
   "cell_type": "markdown",
   "id": "f5cf0acd",
   "metadata": {
    "ExecuteTime": {
     "end_time": "2022-10-05T11:38:11.038586Z",
     "start_time": "2022-10-05T11:38:11.025900Z"
    }
   },
   "source": [
    "# Return Value of search()\n",
    "Question:3<br>\n",
    "What is the return value of the search() method?"
   ]
  },
  {
   "cell_type": "raw",
   "id": "5af4c56d",
   "metadata": {
    "ExecuteTime": {
     "end_time": "2022-10-05T11:40:44.019654Z",
     "start_time": "2022-10-05T11:40:44.010756Z"
    }
   },
   "source": [
    "It returns match object"
   ]
  },
  {
   "cell_type": "markdown",
   "id": "afa49727",
   "metadata": {
    "ExecuteTime": {
     "end_time": "2022-10-05T11:41:36.642132Z",
     "start_time": "2022-10-05T11:41:36.627484Z"
    }
   },
   "source": [
    "# Matched String\n",
    "Question:4<br>\n",
    "From a Match item, how do you get the actual strings that match the pattern?"
   ]
  },
  {
   "cell_type": "code",
   "execution_count": 1,
   "id": "135bb871",
   "metadata": {
    "ExecuteTime": {
     "end_time": "2022-10-05T17:16:46.289702Z",
     "start_time": "2022-10-05T17:16:46.276220Z"
    }
   },
   "outputs": [
    {
     "name": "stdout",
     "output_type": "stream",
     "text": [
      "<re.Match object; span=(0, 5), match='Learn'>\n",
      "Learn\n"
     ]
    }
   ],
   "source": [
    "import re\n",
    "\n",
    "match = re.search('^Learn', 'Learn Python')\n",
    "print(match)\n",
    "if match:\n",
    "    print(match.group())"
   ]
  },
  {
   "cell_type": "markdown",
   "id": "e502672b",
   "metadata": {},
   "source": [
    "# Find the Value\n",
    "Question:5<br>\n",
    "In the regex which created from the r'(\\d\\d\\d)-(\\d\\d\\d-\\d\\d\\d\\d)'<br>\n",
    "what does group zero cover? Group 2? Group 1?"
   ]
  },
  {
   "cell_type": "raw",
   "id": "237a0930",
   "metadata": {},
   "source": [
    "It Covers Both"
   ]
  },
  {
   "cell_type": "code",
   "execution_count": 2,
   "id": "56e06754",
   "metadata": {
    "ExecuteTime": {
     "end_time": "2022-10-05T17:16:46.304731Z",
     "start_time": "2022-10-05T17:16:46.297838Z"
    }
   },
   "outputs": [
    {
     "name": "stdout",
     "output_type": "stream",
     "text": [
      "<re.Match object; span=(0, 12), match='123-456-0000'>\n",
      "123-456-0000\n",
      "123\n",
      "456-0000\n"
     ]
    }
   ],
   "source": [
    "import re\n",
    "\n",
    "match = re.search(r'(\\d\\d\\d)-(\\d\\d\\d-\\d\\d\\d\\d)', '123-456-0000789')\n",
    "print(match)\n",
    "print(match.group(0))\n",
    "print(match.group(1))\n",
    "print(match.group(2))"
   ]
  },
  {
   "cell_type": "markdown",
   "id": "2037f180",
   "metadata": {},
   "source": [
    "# How to escape period and parathesis\n",
    "Question:6<br>\n",
    "In standard expression syntax, parentheses and intervals have distinct meanings<br>\n",
    "How can you tell a regex that you want it to fit real parentheses and periods?"
   ]
  },
  {
   "cell_type": "raw",
   "id": "ce90ae1b",
   "metadata": {},
   "source": [
    "Periods and parentheses can be escaped with a backslash\n",
    "\\.\n",
    "\\(, and \\)"
   ]
  },
  {
   "cell_type": "markdown",
   "id": "2eb55408",
   "metadata": {},
   "source": [
    "# Return Group and List\n",
    "The findall() method returns a string list or a list of string tuples.<br>\n",
    "What causes it to return one of the two options?"
   ]
  },
  {
   "cell_type": "raw",
   "id": "78d98676",
   "metadata": {
    "ExecuteTime": {
     "end_time": "2022-10-05T12:25:59.506621Z",
     "start_time": "2022-10-05T12:25:59.493411Z"
    }
   },
   "source": [
    "If the regex has no groups, a list of strings is returned.\n",
    "If the regex has groups, a list of tuples of strings is returned."
   ]
  },
  {
   "cell_type": "code",
   "execution_count": 3,
   "id": "95bce115",
   "metadata": {
    "ExecuteTime": {
     "end_time": "2022-10-05T17:16:46.327829Z",
     "start_time": "2022-10-05T17:16:46.321245Z"
    }
   },
   "outputs": [
    {
     "name": "stdout",
     "output_type": "stream",
     "text": [
      "<re.Match object; span=(0, 12), match='123-456-0000'>\n",
      "123-456-0000\n"
     ]
    }
   ],
   "source": [
    "match = re.search(r'\\d\\d\\d-\\d\\d\\d-\\d\\d\\d\\d', '123-456-0000789')\n",
    "print(match)\n",
    "print(match.group())"
   ]
  },
  {
   "cell_type": "code",
   "execution_count": 4,
   "id": "d9b1dcf3",
   "metadata": {
    "ExecuteTime": {
     "end_time": "2022-10-05T17:16:46.343182Z",
     "start_time": "2022-10-05T17:16:46.333517Z"
    }
   },
   "outputs": [
    {
     "name": "stdout",
     "output_type": "stream",
     "text": [
      "<re.Match object; span=(0, 12), match='123-456-0000'>\n",
      "123-456-0000\n",
      "123\n",
      "456-0000\n"
     ]
    }
   ],
   "source": [
    "match = re.search(r'(\\d\\d\\d)-(\\d\\d\\d-\\d\\d\\d\\d)', '123-456-0000789')\n",
    "print(match)\n",
    "print(match.group(0))\n",
    "print(match.group(1))\n",
    "print(match.group(2))"
   ]
  },
  {
   "cell_type": "markdown",
   "id": "4ed4f833",
   "metadata": {},
   "source": [
    "# Standard | Means\n",
    "Question:8<br>\n",
    "In standard expressions, what does the | character mean?"
   ]
  },
  {
   "cell_type": "raw",
   "id": "0603c66b",
   "metadata": {},
   "source": [
    "It is a bitwise OR of integers."
   ]
  },
  {
   "cell_type": "markdown",
   "id": "3fa6846e",
   "metadata": {},
   "source": [
    "# RegEx | Means\n",
    "Question:9<br>\n",
    "What does the character | stand for?"
   ]
  },
  {
   "cell_type": "raw",
   "id": "bcf7d53a",
   "metadata": {},
   "source": [
    "Allows regular expression components to be logically ORed"
   ]
  },
  {
   "cell_type": "markdown",
   "id": "fd65bb4f",
   "metadata": {},
   "source": [
    "# + vs * in RegEx\n",
    "Question:10<br>\n",
    "what is the difference between the + and * characters?"
   ]
  },
  {
   "cell_type": "raw",
   "id": "78375533",
   "metadata": {},
   "source": [
    "*: zero-or-more\n",
    "+: one-or-more"
   ]
  },
  {
   "cell_type": "markdown",
   "id": "6dca16b4",
   "metadata": {},
   "source": [
    "# Limiting the Chars\n",
    "Question:11<br>\n",
    "What is the difference between {4} and {4,5} in regular expression?"
   ]
  },
  {
   "cell_type": "raw",
   "id": "e451d128",
   "metadata": {},
   "source": [
    "{4}  : Check only 4 Chars in the pattern\n",
    "{4,5}: Check only 4 to 5 Chars in the pattern"
   ]
  },
  {
   "cell_type": "code",
   "execution_count": 5,
   "id": "b1020e74",
   "metadata": {
    "ExecuteTime": {
     "end_time": "2022-10-05T17:16:46.384720Z",
     "start_time": "2022-10-05T17:16:46.376865Z"
    }
   },
   "outputs": [
    {
     "name": "stdout",
     "output_type": "stream",
     "text": [
      "<re.Match object; span=(0, 4), match='1234'>\n",
      "1234\n"
     ]
    }
   ],
   "source": [
    "match = re.search('\\d{4}', '123456789-0000')\n",
    "print(match)\n",
    "print(match.group())"
   ]
  },
  {
   "cell_type": "code",
   "execution_count": 6,
   "id": "271a9c46",
   "metadata": {
    "ExecuteTime": {
     "end_time": "2022-10-05T17:16:46.397151Z",
     "start_time": "2022-10-05T17:16:46.390425Z"
    }
   },
   "outputs": [
    {
     "name": "stdout",
     "output_type": "stream",
     "text": [
      "<re.Match object; span=(0, 5), match='12345'>\n",
      "12345\n"
     ]
    }
   ],
   "source": [
    "match = re.search('\\d{4,5}', '123456789-0000')\n",
    "print(match)\n",
    "print(match.group())"
   ]
  },
  {
   "cell_type": "markdown",
   "id": "ee9aebca",
   "metadata": {},
   "source": [
    "# Character Classes\n",
    "Question:12<br>\n",
    "What do you mean by the \\d, \\w, and \\s shorthand character classes signify in regular expressions?"
   ]
  },
  {
   "cell_type": "markdown",
   "id": "ca4623e8",
   "metadata": {},
   "source": [
    "| Symbole | Uses      |\n",
    "| ------- | --------  |\n",
    "| \\s      | Space     |\n",
    "| \\d      | Digit     |\n",
    "| \\w      | Aplha Neumeric Char |\n"
   ]
  },
  {
   "cell_type": "markdown",
   "id": "29e4d129",
   "metadata": {},
   "source": [
    "# Character Classes\n",
    "Question:13<br>\n",
    "What do means by \\D, \\W, and \\S shorthand character classes signify in regular expressions?"
   ]
  },
  {
   "cell_type": "markdown",
   "id": "ea41c548",
   "metadata": {},
   "source": [
    "| Symbole | Uses      |\n",
    "| ------- | --------  |\n",
    "| \\S      | Not Space |\n",
    "| \\D      | Not Digit |\n",
    "| \\W      | Not Aplha Neumeric  |"
   ]
  },
  {
   "cell_type": "markdown",
   "id": "d20ea733",
   "metadata": {},
   "source": [
    "# Difference (.\\*?) and (.\\*)?\n",
    "Question:14<br>\n",
    "What is the difference between .\\*? and .\\*?"
   ]
  },
  {
   "cell_type": "raw",
   "id": "103b6c9e",
   "metadata": {
    "ExecuteTime": {
     "end_time": "2022-10-05T13:44:30.799027Z",
     "start_time": "2022-10-05T13:44:30.789619Z"
    }
   },
   "source": [
    "(.*?) : Returns Empty Strings\n",
    "(.*)? : Returns 1st line"
   ]
  },
  {
   "cell_type": "markdown",
   "id": "bd606caf",
   "metadata": {},
   "source": [
    "# Numbers and Lowercase letters\n",
    "Question:15<br>\n",
    "What is the syntax for matching both numbers and lowercase letters with a character class?"
   ]
  },
  {
   "cell_type": "raw",
   "id": "e74c2865",
   "metadata": {
    "ExecuteTime": {
     "end_time": "2022-10-05T13:48:19.534429Z",
     "start_time": "2022-10-05T13:48:19.526663Z"
    }
   },
   "source": [
    "[0-9a-z]"
   ]
  },
  {
   "cell_type": "code",
   "execution_count": 7,
   "id": "862bdb07",
   "metadata": {
    "ExecuteTime": {
     "end_time": "2022-10-05T17:16:46.416302Z",
     "start_time": "2022-10-05T17:16:46.411112Z"
    }
   },
   "outputs": [
    {
     "name": "stdout",
     "output_type": "stream",
     "text": [
      "<re.Match object; span=(0, 1), match='1'>\n"
     ]
    }
   ],
   "source": [
    "match = re.search('[0-9a-z]', '123456789-0000')\n",
    "print(match)"
   ]
  },
  {
   "cell_type": "markdown",
   "id": "9d958419",
   "metadata": {},
   "source": [
    "# re.IGNORECASE\n",
    "Question:16<br>\n",
    "What is the procedure for making a normal expression in regex case insensitive?"
   ]
  },
  {
   "cell_type": "raw",
   "id": "3dd3730d",
   "metadata": {
    "ExecuteTime": {
     "end_time": "2022-10-05T14:00:17.519775Z",
     "start_time": "2022-10-05T14:00:17.512208Z"
    }
   },
   "source": [
    "Setting the flag: re.IGNORECASE"
   ]
  },
  {
   "cell_type": "code",
   "execution_count": 8,
   "id": "2c1350b3",
   "metadata": {
    "ExecuteTime": {
     "end_time": "2022-10-05T17:16:46.436882Z",
     "start_time": "2022-10-05T17:16:46.431189Z"
    }
   },
   "outputs": [
    {
     "name": "stdout",
     "output_type": "stream",
     "text": [
      "No Match\n"
     ]
    }
   ],
   "source": [
    "match = re.search('test', 'TEST')\n",
    "if match:\n",
    "    match.group()\n",
    "    print('Matched')\n",
    "else:\n",
    "    print('No Match')"
   ]
  },
  {
   "cell_type": "code",
   "execution_count": 9,
   "id": "d20a4e2f",
   "metadata": {
    "ExecuteTime": {
     "end_time": "2022-10-05T17:16:46.447382Z",
     "start_time": "2022-10-05T17:16:46.440984Z"
    }
   },
   "outputs": [
    {
     "name": "stdout",
     "output_type": "stream",
     "text": [
      "test\n",
      "Matched\n"
     ]
    }
   ],
   "source": [
    "match = re.match('TEST', 'test', re.IGNORECASE)\n",
    "if match:\n",
    "    print(match.group())\n",
    "    print('Matched')\n",
    "else:\n",
    "    print('No Match')"
   ]
  },
  {
   "cell_type": "code",
   "execution_count": 10,
   "id": "3ab9eb4b",
   "metadata": {
    "ExecuteTime": {
     "end_time": "2022-10-05T17:16:46.458323Z",
     "start_time": "2022-10-05T17:16:46.451144Z"
    }
   },
   "outputs": [
    {
     "name": "stdout",
     "output_type": "stream",
     "text": [
      "xxxxing\n"
     ]
    }
   ],
   "source": [
    "print(re.sub('test', 'xxxx', 'Testing', flags=re.IGNORECASE))"
   ]
  },
  {
   "cell_type": "markdown",
   "id": "b50943e4",
   "metadata": {},
   "source": [
    "# Use of re.DOTALL\n",
    "Question:17<br>\n",
    "What does the . character normally match?<br>\n",
    "What does it match if re.DOTALL is passed as 2nd argument in re.compile()?"
   ]
  },
  {
   "cell_type": "raw",
   "id": "4693f455",
   "metadata": {},
   "source": [
    "DOT      : Normally matches any character except the newline character.\n",
    "re.DOTALL: Passed as the second argument to \"re. compile()\", then the DOT will also match newline characters."
   ]
  },
  {
   "cell_type": "markdown",
   "id": "aa4b4554",
   "metadata": {},
   "source": [
    "# Find the Answer\n",
    "Question:18<br>\n",
    "If numReg = re.compile(r'\\d+')<br>\n",
    "what will numRegex.sub('X', '11 drummers, 10 pipers, five rings, 4hen') return?"
   ]
  },
  {
   "cell_type": "raw",
   "id": "ad7a9f4f",
   "metadata": {},
   "source": [
    "It should replace the Number(s) to 'X'"
   ]
  },
  {
   "cell_type": "code",
   "execution_count": 11,
   "id": "9442b02e",
   "metadata": {
    "ExecuteTime": {
     "end_time": "2022-10-05T17:16:46.497519Z",
     "start_time": "2022-10-05T17:16:46.483581Z"
    }
   },
   "outputs": [
    {
     "data": {
      "text/plain": [
       "'X drummers, X pipers, five rings, Xhen'"
      ]
     },
     "execution_count": 11,
     "metadata": {},
     "output_type": "execute_result"
    }
   ],
   "source": [
    "numReg = re.compile(r'\\d+')\n",
    "numReg.sub('X', '11 drummers, 10 pipers, five rings, 4hen') "
   ]
  },
  {
   "cell_type": "markdown",
   "id": "5f28dacc",
   "metadata": {},
   "source": [
    "# Use of re.VERBOSE\n",
    "Question:19<br>\n",
    "What does passing re.VERBOSE as the 2nd argument to re.compile() allow to do?"
   ]
  },
  {
   "cell_type": "raw",
   "id": "bc01f0e8",
   "metadata": {},
   "source": [
    "re. VERBOSE: Allows whitespace and comments to the string passed to re"
   ]
  },
  {
   "cell_type": "code",
   "execution_count": 12,
   "id": "30f0fd1d",
   "metadata": {
    "ExecuteTime": {
     "end_time": "2022-10-05T17:16:46.519161Z",
     "start_time": "2022-10-05T17:16:46.506325Z"
    }
   },
   "outputs": [
    {
     "name": "stdout",
     "output_type": "stream",
     "text": [
      "/ username12432@gmail.com : is Valid email.\n",
      "- Local : username12432\n",
      "- Domain : gmail\n",
      "- The domain name : com\n",
      "\n",
      "X username123456721@redif.com@ : is Invalid Id\n",
      "X username32@.com : is Invalid Id\n"
     ]
    }
   ],
   "source": [
    "import re as regex  \n",
    "\n",
    "\n",
    "def validating_email(emails):\n",
    "    # RegexObject = re.compile( Regular expression , flag )\n",
    "    # This will compile the regular expression pattern into the regular expression object.\n",
    "    \n",
    "    reg_email = regex.compile(r\"\"\"^([a-z0-9_\\.-]+)              # local Part  \n",
    "                                  @                             # single @ sign  \n",
    "                                  ([0-9a-z\\.-]+)                # Domain name  \n",
    "                                  \\.                            # single Dot .  \n",
    "                                  ([a-z]{2,6})$                 # Top level Domain\"\"\",re.VERBOSE | re.IGNORECASE)  \n",
    "    # RegexObject will be matched with the desired string by using the fullmatch() function.  \n",
    "    # If the match of the email is found, search() function will return the MatchObject instantly.\n",
    "    \n",
    "    ress = reg_email.fullmatch(emails)  \n",
    "    #If the email match is found, the string is valid to use  \n",
    "    if ress:  \n",
    "        print (\"/ {} : is Valid email.\".format(emails))  \n",
    "        \n",
    "        # now print the first part that is personal detail of Email Id user  \n",
    "        print (\"- Local : {}\".format(ress.group(1)))  \n",
    "        \n",
    "        # now, print the Domain Name of validated Email Id  \n",
    "        print (\"- Domain : {}\".format(ress.group(2)))  \n",
    "        \n",
    "        # now, print the Domain Name of the validated Email Id  \n",
    "        print (\"- The domain name : {}\".format(ress.group(3)))  \n",
    "        print ()  \n",
    "        \n",
    "    else:  \n",
    "        # and, If the match is not found, the string is an inval id\n",
    "        print (\"X {} : is Invalid Id\".format(emails))\n",
    "\n",
    "validating_email (\"username12432@gmail.com\")  \n",
    "validating_email (\"username123456721@redif.com@\")  \n",
    "validating_email (\"username32@.com\")   "
   ]
  },
  {
   "cell_type": "markdown",
   "id": "66d7750a",
   "metadata": {},
   "source": [
    "# Applications\n",
    "Question:20<br>\n",
    "How would you write a regex that match a number with comma for every three digits?<br><br>\n",
    "**It must match the given following:**<br>\n",
    "'42'<br>\n",
    "'1,234'<br>\n",
    "'6,368,745'<br><br>\n",
    "\n",
    "**but not the following:**<br>\n",
    "'12,34,567 (which has only two digits between the commas)<br>\n",
    "'1234' (which lacks commas)<br>"
   ]
  },
  {
   "cell_type": "code",
   "execution_count": 13,
   "id": "6645f95e",
   "metadata": {
    "ExecuteTime": {
     "end_time": "2022-10-05T17:16:46.530684Z",
     "start_time": "2022-10-05T17:16:46.523605Z"
    }
   },
   "outputs": [
    {
     "name": "stdout",
     "output_type": "stream",
     "text": [
      "['42']\n",
      "['1,234']\n",
      "['6,368,745']\n",
      "[]\n",
      "[]\n"
     ]
    }
   ],
   "source": [
    "import re\n",
    "\n",
    "digitRegex = re.compile(r'^\\d{1,3}(?:,\\d{3})*$')\n",
    "for num in ['42',\n",
    "            '1,234',\n",
    "            '6,368,745',\n",
    "            '12,34,567',\n",
    "            '1234']:\n",
    "    print(format(digitRegex.findall(num)))"
   ]
  },
  {
   "cell_type": "markdown",
   "id": "25778921",
   "metadata": {},
   "source": [
    "Question:21<br>\n",
    "How would you write a regex that matches<br>\n",
    "- The full name of someone whose last name is Watanabe?<br>\n",
    "- You can assume that the first name that comes before it will always be one word that begins with a capital letter.<br>\n",
    "\n",
    "**- The regex must match the following:**<br>\n",
    "Haruto Watanabe<br>\n",
    "Alice Watanabe<br>\n",
    "RoboCop Watanabe<br><br>\n",
    "\n",
    "**- but not the following:**<br>\n",
    "haruto Watanabe (where the first name is not capitalized)<br>\n",
    "Mr. Watanabe    (where the preceding word has a nonletter character)<br>\n",
    "Watanabe        (which has no first name)<br>\n",
    "Haruto watanabe (where Watanabe is not capitalized)<br>"
   ]
  },
  {
   "cell_type": "code",
   "execution_count": 14,
   "id": "3171317d",
   "metadata": {
    "ExecuteTime": {
     "end_time": "2022-10-05T17:16:46.548387Z",
     "start_time": "2022-10-05T17:16:46.538813Z"
    }
   },
   "outputs": [
    {
     "name": "stdout",
     "output_type": "stream",
     "text": [
      "['Haruto Watanabe']\n",
      "['Alice Watanabe']\n",
      "['Cop Watanabe']\n",
      "[]\n",
      "[]\n",
      "[]\n",
      "[]\n"
     ]
    }
   ],
   "source": [
    "import re\n",
    "\n",
    "digitRegex = re.compile(r'[A-Z]{1}[a-z]+\\sWatanabe$')\n",
    "for num in ['Haruto Watanabe',\n",
    "            'Alice Watanabe',\n",
    "            'RoboCop Watanabe',\n",
    "            \n",
    "            'haruto Watanabe',\n",
    "            'Mr. Watanabe',\n",
    "            'Watanabe',\n",
    "            'Haruto watanabe']:\n",
    "    print(format(digitRegex.findall(num)))"
   ]
  },
  {
   "cell_type": "markdown",
   "id": "6c015ed9",
   "metadata": {},
   "source": [
    "Question:22<br>\n",
    "How would you write a regex that matches a sentence where<br>\n",
    "- The first word is either Alice, Bob or Carol\n",
    "- The second word is either eats, pets, or throws\n",
    "- The third word is apples, cats, or baseballs\n",
    "- The sentence ends with a period?\n",
    "- This regex should be case-insensitive<br><br>\n",
    "\n",
    "**- It must match the following:**<br>\n",
    "Alice eats apples.<br>\n",
    "Bob pets cats.<br>\n",
    "Carol throws baseballs.<br>\n",
    "Alice throws Apples.<br>\n",
    "BOB EATS CATS.<br><br>\n",
    "\n",
    "**- but not the following:**<br>\n",
    "RoboCop eats apples.<br>\n",
    "ALICE THROWS FOOTBALLS.<br>\n",
    "Carol eats 7 cats."
   ]
  },
  {
   "cell_type": "code",
   "execution_count": 15,
   "id": "1a6f7d22",
   "metadata": {
    "ExecuteTime": {
     "end_time": "2022-10-05T17:16:46.587381Z",
     "start_time": "2022-10-05T17:16:46.556307Z"
    }
   },
   "outputs": [
    {
     "name": "stdout",
     "output_type": "stream",
     "text": [
      "['Alice eats Apples.']\n",
      "['Bob pets cats.']\n",
      "['Carol throws baseballs.']\n",
      "['Alice throws Apples.']\n",
      "['BOB EATS CATS.']\n",
      "[]\n",
      "[]\n",
      "[]\n"
     ]
    }
   ],
   "source": [
    "import re\n",
    "\n",
    "digitRegex = re.compile(r'(?:Alice|Bob|Carol)\\s(?:eats|pets|throws)\\s(?:apples|cats|baseballs)\\.', re.I)\n",
    "for num in ['Alice eats Apples.',\n",
    "            'Bob pets cats.',\n",
    "            'Carol throws baseballs.',\n",
    "            'Alice throws Apples.',\n",
    "            'BOB EATS CATS.',\n",
    "            \n",
    "            'RoboCop eats apples.',\n",
    "            'ALICE THROWS FOOTBALLS.',\n",
    "            'Carol eats 7 cats.']:\n",
    "    print(format(digitRegex.findall(num)))"
   ]
  }
 ],
 "metadata": {
  "kernelspec": {
   "display_name": "Python 3 (ipykernel)",
   "language": "python",
   "name": "python3"
  },
  "language_info": {
   "codemirror_mode": {
    "name": "ipython",
    "version": 3
   },
   "file_extension": ".py",
   "mimetype": "text/x-python",
   "name": "python",
   "nbconvert_exporter": "python",
   "pygments_lexer": "ipython3",
   "version": "3.8.13"
  },
  "toc": {
   "base_numbering": 1,
   "nav_menu": {},
   "number_sections": true,
   "sideBar": true,
   "skip_h1_title": false,
   "title_cell": "Table of Contents",
   "title_sidebar": "Contents",
   "toc_cell": true,
   "toc_position": {},
   "toc_section_display": true,
   "toc_window_display": true
  }
 },
 "nbformat": 4,
 "nbformat_minor": 5
}
