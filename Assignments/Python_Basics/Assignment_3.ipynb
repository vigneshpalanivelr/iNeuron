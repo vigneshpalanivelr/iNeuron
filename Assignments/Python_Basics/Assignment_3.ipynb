{
 "cells": [
  {
   "cell_type": "markdown",
   "id": "cc712303",
   "metadata": {
    "toc": true
   },
   "source": [
    "<h1>Table of Contents<span class=\"tocSkip\"></span></h1>\n",
    "<div class=\"toc\"><ul class=\"toc-item\"><li><span><a href=\"#Advantages-of-Functions\" data-toc-modified-id=\"Advantages-of-Functions-1\"><span class=\"toc-item-num\">1&nbsp;&nbsp;</span>Advantages of Functions</a></span></li><li><span><a href=\"#Function-Execution\" data-toc-modified-id=\"Function-Execution-2\"><span class=\"toc-item-num\">2&nbsp;&nbsp;</span>Function Execution</a></span></li><li><span><a href=\"#Define-a-function\" data-toc-modified-id=\"Define-a-function-3\"><span class=\"toc-item-num\">3&nbsp;&nbsp;</span>Define a function</a></span></li><li><span><a href=\"#Function-vs-Function-Call\" data-toc-modified-id=\"Function-vs-Function-Call-4\"><span class=\"toc-item-num\">4&nbsp;&nbsp;</span>Function vs Function Call</a></span></li><li><span><a href=\"#Global-&amp;-Local-Scopes\" data-toc-modified-id=\"Global-&amp;-Local-Scopes-5\"><span class=\"toc-item-num\">5&nbsp;&nbsp;</span>Global &amp; Local Scopes</a></span></li><li><span><a href=\"#Local-scop-after-the-execution\" data-toc-modified-id=\"Local-scop-after-the-execution-6\"><span class=\"toc-item-num\">6&nbsp;&nbsp;</span>Local scop after the execution</a></span></li><li><span><a href=\"#Return-&amp;-Return-Expression\" data-toc-modified-id=\"Return-&amp;-Return-Expression-7\"><span class=\"toc-item-num\">7&nbsp;&nbsp;</span>Return &amp; Return Expression</a></span></li><li><span><a href=\"#Default-Return\" data-toc-modified-id=\"Default-Return-8\"><span class=\"toc-item-num\">8&nbsp;&nbsp;</span>Default Return</a></span></li><li><span><a href=\"#Func-Variable-to-Global-Variable\" data-toc-modified-id=\"Func-Variable-to-Global-Variable-9\"><span class=\"toc-item-num\">9&nbsp;&nbsp;</span>Func Variable to Global Variable</a></span></li><li><span><a href=\"#None-datatype\" data-toc-modified-id=\"None-datatype-10\"><span class=\"toc-item-num\">10&nbsp;&nbsp;</span>None datatype</a></span></li><li><span><a href=\"#import-statement\" data-toc-modified-id=\"import-statement-11\"><span class=\"toc-item-num\">11&nbsp;&nbsp;</span>import statement</a></span></li><li><span><a href=\"#Calling-a-module-function\" data-toc-modified-id=\"Calling-a-module-function-12\"><span class=\"toc-item-num\">12&nbsp;&nbsp;</span>Calling a module function</a></span></li><li><span><a href=\"#Save-programme-from-crash\" data-toc-modified-id=\"Save-programme-from-crash-13\"><span class=\"toc-item-num\">13&nbsp;&nbsp;</span>Save programme from crash</a></span></li><li><span><a href=\"#Try,-Except,-Else-and-Finally\" data-toc-modified-id=\"Try,-Except,-Else-and-Finally-14\"><span class=\"toc-item-num\">14&nbsp;&nbsp;</span>Try, Except, Else and Finally</a></span></li></ul></div>"
   ]
  },
  {
   "cell_type": "markdown",
   "id": "d7f4f3ee",
   "metadata": {},
   "source": [
    "# Advantages of Functions\n",
    "Question:1<br>\n",
    "Why are functions advantageous to have in your programs?"
   ]
  },
  {
   "cell_type": "raw",
   "id": "118ff32e",
   "metadata": {},
   "source": [
    "Functions improves\n",
    "1) Code Reusability\n",
    "2) Code Maintenance\n",
    "3) Code Scalability"
   ]
  },
  {
   "cell_type": "markdown",
   "id": "f38c9a82",
   "metadata": {},
   "source": [
    "# Function Execution\n",
    "Question:2<br>\n",
    "When does the code in a function run ?"
   ]
  },
  {
   "cell_type": "markdown",
   "id": "d13e4110",
   "metadata": {},
   "source": [
    "The code inside a function is executed when the function is **invoked or called**"
   ]
  },
  {
   "cell_type": "markdown",
   "id": "8d6ea5f1",
   "metadata": {},
   "source": [
    "# Define a function\n",
    "Question:3<br>\n",
    "What statement creates a function?"
   ]
  },
  {
   "cell_type": "raw",
   "id": "ae655f0d",
   "metadata": {},
   "source": [
    "def statement"
   ]
  },
  {
   "cell_type": "code",
   "execution_count": 1,
   "id": "7982c159",
   "metadata": {
    "ExecuteTime": {
     "end_time": "2022-09-24T18:25:12.896596Z",
     "start_time": "2022-09-24T18:25:12.883169Z"
    }
   },
   "outputs": [],
   "source": [
    "def func():\n",
    "    pass"
   ]
  },
  {
   "cell_type": "markdown",
   "id": "dd96194d",
   "metadata": {},
   "source": [
    "# Function vs Function Call\n",
    "Question:4<br>\n",
    "What is the difference between a function and a function call?"
   ]
  },
  {
   "cell_type": "raw",
   "id": "7fcdbdb7",
   "metadata": {
    "ExecuteTime": {
     "end_time": "2022-09-24T15:55:18.296210Z",
     "start_time": "2022-09-24T15:55:18.288024Z"
    }
   },
   "source": [
    "A function is a piece of code which enhanced the reusability of your code.\n",
    "A function call means invoking or calling that function to do some operation."
   ]
  },
  {
   "cell_type": "markdown",
   "id": "700dd9f2",
   "metadata": {},
   "source": [
    "# Global & Local Scopes\n",
    "Question:5<br>\n",
    "How many global scopes are there in a Python program? How many local scopes?"
   ]
  },
  {
   "cell_type": "raw",
   "id": "51d3fb97",
   "metadata": {},
   "source": [
    "Only One global scope in python Program\n",
    "Atmost 3 local scopes in python program"
   ]
  },
  {
   "cell_type": "markdown",
   "id": "a0aa74be",
   "metadata": {},
   "source": [
    "# Local scop after the execution\n",
    "Question:6<br>\n",
    "What happens to variables in a local scope when the function call returns?"
   ]
  },
  {
   "cell_type": "raw",
   "id": "91c0e624",
   "metadata": {},
   "source": [
    "All the local variables will be cleaned by garbage collector after a function call returned"
   ]
  },
  {
   "cell_type": "markdown",
   "id": "8a436399",
   "metadata": {},
   "source": [
    "# Return & Return Expression\n",
    "Question:7<br>\n",
    "What is the concept of a return value?<br>\n",
    "Is it possible to have a return value in an expression?"
   ]
  },
  {
   "cell_type": "raw",
   "id": "1b4d2d17",
   "metadata": {},
   "source": [
    "A return statement is used to end the execution of the function call and “returns” the result.\n",
    "Yes it is possible to have a return value in an expression "
   ]
  },
  {
   "cell_type": "markdown",
   "id": "e7c9b218",
   "metadata": {},
   "source": [
    "# Default Return\n",
    "Question:8<br>\n",
    "If a function does not have a return statement, what is the return value of a call to that function?"
   ]
  },
  {
   "cell_type": "raw",
   "id": "eba6d606",
   "metadata": {
    "ExecuteTime": {
     "end_time": "2022-09-24T18:00:35.227825Z",
     "start_time": "2022-09-24T18:00:35.219705Z"
    }
   },
   "source": [
    "A Python function will always have a return value.\n",
    "If you don’t explicitly use/omit return statement, then Python will implicitly return None."
   ]
  },
  {
   "cell_type": "markdown",
   "id": "199622b4",
   "metadata": {},
   "source": [
    "# Func Variable to Global Variable\n",
    "Question:9<br>\n",
    "How do you make a function variable refer to the global variable?"
   ]
  },
  {
   "cell_type": "raw",
   "id": "b6b382c6",
   "metadata": {},
   "source": [
    "Using the global keyword"
   ]
  },
  {
   "cell_type": "markdown",
   "id": "32568c76",
   "metadata": {
    "ExecuteTime": {
     "end_time": "2022-09-24T18:04:08.926931Z",
     "start_time": "2022-09-24T18:04:08.919919Z"
    }
   },
   "source": [
    "# None datatype\n",
    "Question:10<br>\n",
    "What is the data type of None?"
   ]
  },
  {
   "cell_type": "raw",
   "id": "52be6453",
   "metadata": {},
   "source": [
    "NoneType"
   ]
  },
  {
   "cell_type": "code",
   "execution_count": 2,
   "id": "770a2ffa",
   "metadata": {
    "ExecuteTime": {
     "end_time": "2022-09-24T18:25:12.965664Z",
     "start_time": "2022-09-24T18:25:12.948129Z"
    }
   },
   "outputs": [
    {
     "data": {
      "text/plain": [
       "NoneType"
      ]
     },
     "execution_count": 2,
     "metadata": {},
     "output_type": "execute_result"
    }
   ],
   "source": [
    "type(None)"
   ]
  },
  {
   "cell_type": "markdown",
   "id": "2bc86dd3",
   "metadata": {},
   "source": [
    "# import statement\n",
    "Question:11<br>\n",
    "What does the sentence import areallyourpetsnamederic do?"
   ]
  },
  {
   "cell_type": "raw",
   "id": "d4b0dccc",
   "metadata": {
    "ExecuteTime": {
     "end_time": "2022-09-24T18:06:41.213968Z",
     "start_time": "2022-09-24T18:06:41.169582Z"
    }
   },
   "source": [
    "This statement will try to import the module \"areallyourpetsnamederic\""
   ]
  },
  {
   "cell_type": "markdown",
   "id": "b49b11ae",
   "metadata": {},
   "source": [
    "# Calling a module function\n",
    "Question:12<br>\n",
    "If you had a bacon() feature in a spam module, what would you call it after importing spam?"
   ]
  },
  {
   "cell_type": "raw",
   "id": "fd2c0069",
   "metadata": {
    "ExecuteTime": {
     "end_time": "2022-09-24T18:12:26.937460Z",
     "start_time": "2022-09-24T18:12:26.315081Z"
    }
   },
   "source": [
    "spam.bacon()"
   ]
  },
  {
   "cell_type": "markdown",
   "id": "0a0e0c1c",
   "metadata": {},
   "source": [
    "# Save programme from crash\n",
    "Question:13<br>\n",
    "What can you do to save a programme from crashing if it encounters an error?"
   ]
  },
  {
   "cell_type": "raw",
   "id": "08e4ad7b",
   "metadata": {},
   "source": [
    "we have moved our code inside a try and except statement."
   ]
  },
  {
   "cell_type": "markdown",
   "id": "52cefd13",
   "metadata": {
    "ExecuteTime": {
     "end_time": "2022-09-24T18:17:39.731207Z",
     "start_time": "2022-09-24T18:17:39.724931Z"
    }
   },
   "source": [
    "# Try, Except, Else and Finally\n",
    "Question:14<br>\n",
    "What is the purpose of the try clause?<br>\n",
    "What is the purpose of the except clause?"
   ]
  },
  {
   "cell_type": "raw",
   "id": "7ac09112",
   "metadata": {},
   "source": [
    "try block    : Let's you test a block of code for errors.\n",
    "except block : Let's you handle the error."
   ]
  },
  {
   "cell_type": "raw",
   "id": "914f2bda",
   "metadata": {},
   "source": [
    "else block   : Let's you execute else part of the code when there is no error\n",
    "finally block: Let's you execute irrespective of error or no error"
   ]
  }
 ],
 "metadata": {
  "kernelspec": {
   "display_name": "Python 3 (ipykernel)",
   "language": "python",
   "name": "python3"
  },
  "language_info": {
   "codemirror_mode": {
    "name": "ipython",
    "version": 3
   },
   "file_extension": ".py",
   "mimetype": "text/x-python",
   "name": "python",
   "nbconvert_exporter": "python",
   "pygments_lexer": "ipython3",
   "version": "3.8.13"
  },
  "toc": {
   "base_numbering": 1,
   "nav_menu": {},
   "number_sections": true,
   "sideBar": true,
   "skip_h1_title": false,
   "title_cell": "Table of Contents",
   "title_sidebar": "Contents",
   "toc_cell": true,
   "toc_position": {},
   "toc_section_display": true,
   "toc_window_display": true
  }
 },
 "nbformat": 4,
 "nbformat_minor": 5
}
