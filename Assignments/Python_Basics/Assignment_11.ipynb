{
 "cells": [
  {
   "cell_type": "markdown",
   "id": "6b394fc3",
   "metadata": {
    "toc": true
   },
   "source": [
    "<h1>Table of Contents<span class=\"tocSkip\"></span></h1>\n",
    "<div class=\"toc\"><ul class=\"toc-item\"><li><span><a href=\"#Assert---Allow-only-non-negetive-number\" data-toc-modified-id=\"Assert---Allow-only-non-negetive-number-1\"><span class=\"toc-item-num\">1&nbsp;&nbsp;</span>Assert - Allow only non-negetive number</a></span></li><li><span><a href=\"#Assert---Compare-string-with-case-insensitive\" data-toc-modified-id=\"Assert---Compare-string-with-case-insensitive-2\"><span class=\"toc-item-num\">2&nbsp;&nbsp;</span>Assert - Compare string with case insensitive</a></span></li><li><span><a href=\"#Assert---Always-Fail\" data-toc-modified-id=\"Assert---Always-Fail-3\"><span class=\"toc-item-num\">3&nbsp;&nbsp;</span>Assert - Always Fail</a></span></li><li><span><a href=\"#logging---Without-filename\" data-toc-modified-id=\"logging---Without-filename-4\"><span class=\"toc-item-num\">4&nbsp;&nbsp;</span>logging - Without filename</a></span></li><li><span><a href=\"#logging---With-log-filename\" data-toc-modified-id=\"logging---With-log-filename-5\"><span class=\"toc-item-num\">5&nbsp;&nbsp;</span>logging - With log filename</a></span></li><li><span><a href=\"#logging-levels\" data-toc-modified-id=\"logging-levels-6\"><span class=\"toc-item-num\">6&nbsp;&nbsp;</span>logging levels</a></span></li><li><span><a href=\"#Disable-Logging\" data-toc-modified-id=\"Disable-Logging-7\"><span class=\"toc-item-num\">7&nbsp;&nbsp;</span>Disable Logging</a></span></li><li><span><a href=\"#logging-vs-print\" data-toc-modified-id=\"logging-vs-print-8\"><span class=\"toc-item-num\">8&nbsp;&nbsp;</span>logging vs print</a></span></li><li><span><a href=\"#debugger:-StepIn-StepOut-StepOver\" data-toc-modified-id=\"debugger:-StepIn-StepOut-StepOver-9\"><span class=\"toc-item-num\">9&nbsp;&nbsp;</span>debugger: StepIn StepOut StepOver</a></span></li><li><span><a href=\"#degugger:-When-will-stop\" data-toc-modified-id=\"degugger:-When-will-stop-10\"><span class=\"toc-item-num\">10&nbsp;&nbsp;</span>degugger: When will stop</a></span></li><li><span><a href=\"#degugger:-Breakpoint\" data-toc-modified-id=\"degugger:-Breakpoint-11\"><span class=\"toc-item-num\">11&nbsp;&nbsp;</span>degugger: Breakpoint</a></span></li></ul></div>"
   ]
  },
  {
   "cell_type": "markdown",
   "id": "225cf557",
   "metadata": {
    "ExecuteTime": {
     "end_time": "2022-11-12T10:03:30.688467Z",
     "start_time": "2022-11-12T10:03:30.671691Z"
    }
   },
   "source": [
    "# Assert - Allow only non-negetive number\n",
    "Create an assert statement that throws an AssertionError if the variable spam is a negative integer."
   ]
  },
  {
   "cell_type": "code",
   "execution_count": 1,
   "id": "c066c837",
   "metadata": {
    "ExecuteTime": {
     "end_time": "2022-11-12T12:00:23.880835Z",
     "start_time": "2022-11-12T12:00:23.866682Z"
    }
   },
   "outputs": [],
   "source": [
    "spam = 10\n",
    "assert spam >= 0, 'The spam variable is less than 0'"
   ]
  },
  {
   "cell_type": "code",
   "execution_count": 2,
   "id": "a932662a",
   "metadata": {
    "ExecuteTime": {
     "end_time": "2022-11-12T11:59:45.156016Z",
     "start_time": "2022-11-12T11:59:44.544725Z"
    },
    "deletable": false,
    "editable": false,
    "run_control": {
     "frozen": true
    }
   },
   "outputs": [
    {
     "ename": "AssertionError",
     "evalue": "The spam variable is less than 0",
     "output_type": "error",
     "traceback": [
      "\u001b[0;31m---------------------------------------------------------------------------\u001b[0m",
      "\u001b[0;31mAssertionError\u001b[0m                            Traceback (most recent call last)",
      "Input \u001b[0;32mIn [2]\u001b[0m, in \u001b[0;36m<cell line: 2>\u001b[0;34m()\u001b[0m\n\u001b[1;32m      1\u001b[0m spam \u001b[38;5;241m=\u001b[39m \u001b[38;5;241m-\u001b[39m\u001b[38;5;241m10\u001b[39m\n\u001b[0;32m----> 2\u001b[0m \u001b[38;5;28;01massert\u001b[39;00m spam \u001b[38;5;241m>\u001b[39m\u001b[38;5;241m=\u001b[39m \u001b[38;5;241m0\u001b[39m, \u001b[38;5;124m'\u001b[39m\u001b[38;5;124mThe spam variable is less than 0\u001b[39m\u001b[38;5;124m'\u001b[39m\n",
      "\u001b[0;31mAssertionError\u001b[0m: The spam variable is less than 0"
     ]
    }
   ],
   "source": [
    "spam = -10\n",
    "assert spam >= 0, 'The spam variable is less than 0'"
   ]
  },
  {
   "cell_type": "markdown",
   "id": "119375ee",
   "metadata": {},
   "source": [
    "# Assert - Compare string with case insensitive\n",
    "Write an assert statement that triggers an AssertionError <br>\n",
    "if the variables eggs and bacon contain strings that are the same as each other, even if their cases are different"
   ]
  },
  {
   "cell_type": "code",
   "execution_count": 2,
   "id": "44b4a786",
   "metadata": {
    "ExecuteTime": {
     "end_time": "2022-11-12T12:00:23.891232Z",
     "start_time": "2022-11-12T12:00:23.885289Z"
    }
   },
   "outputs": [],
   "source": [
    "eggs = 'One case needed'\n",
    "bacon = 'one case needed'\n",
    "\n",
    "assert eggs.lower() == bacon.lower(), 'eggs and bacon should be same'"
   ]
  },
  {
   "cell_type": "code",
   "execution_count": 3,
   "id": "6f7a7390",
   "metadata": {
    "ExecuteTime": {
     "end_time": "2022-11-12T11:59:57.590053Z",
     "start_time": "2022-11-12T11:59:56.901364Z"
    },
    "deletable": false,
    "editable": false,
    "run_control": {
     "frozen": true
    }
   },
   "outputs": [
    {
     "ename": "AssertionError",
     "evalue": "eggs and bacon should be same",
     "output_type": "error",
     "traceback": [
      "\u001b[0;31m---------------------------------------------------------------------------\u001b[0m",
      "\u001b[0;31mAssertionError\u001b[0m                            Traceback (most recent call last)",
      "Input \u001b[0;32mIn [3]\u001b[0m, in \u001b[0;36m<cell line: 4>\u001b[0;34m()\u001b[0m\n\u001b[1;32m      1\u001b[0m eggs \u001b[38;5;241m=\u001b[39m \u001b[38;5;124m'\u001b[39m\u001b[38;5;124mOne case needed\u001b[39m\u001b[38;5;124m'\u001b[39m\n\u001b[1;32m      2\u001b[0m bacon \u001b[38;5;241m=\u001b[39m \u001b[38;5;124m'\u001b[39m\u001b[38;5;124mTwo case needed\u001b[39m\u001b[38;5;124m'\u001b[39m\n\u001b[0;32m----> 4\u001b[0m \u001b[38;5;28;01massert\u001b[39;00m eggs\u001b[38;5;241m.\u001b[39mlower() \u001b[38;5;241m==\u001b[39m bacon\u001b[38;5;241m.\u001b[39mlower(), \u001b[38;5;124m'\u001b[39m\u001b[38;5;124meggs and bacon should be same\u001b[39m\u001b[38;5;124m'\u001b[39m\n",
      "\u001b[0;31mAssertionError\u001b[0m: eggs and bacon should be same"
     ]
    }
   ],
   "source": [
    "eggs = 'One case needed'\n",
    "bacon = 'Two case needed'\n",
    "\n",
    "assert eggs.lower() == bacon.lower(), 'eggs and bacon should be same'"
   ]
  },
  {
   "cell_type": "markdown",
   "id": "ecb5b042",
   "metadata": {},
   "source": [
    "# Assert - Always Fail\n",
    "Create an assert statement that throws an AssertionError every time."
   ]
  },
  {
   "cell_type": "code",
   "execution_count": 3,
   "id": "8a12a6d5",
   "metadata": {
    "ExecuteTime": {
     "end_time": "2022-11-12T12:00:11.263038Z",
     "start_time": "2022-11-12T12:00:10.665238Z"
    },
    "deletable": false,
    "editable": false,
    "run_control": {
     "frozen": true
    }
   },
   "outputs": [
    {
     "ename": "AssertionError",
     "evalue": "Always Throws this error",
     "output_type": "error",
     "traceback": [
      "\u001b[0;31m---------------------------------------------------------------------------\u001b[0m",
      "\u001b[0;31mAssertionError\u001b[0m                            Traceback (most recent call last)",
      "Input \u001b[0;32mIn [3]\u001b[0m, in \u001b[0;36m<cell line: 1>\u001b[0;34m()\u001b[0m\n\u001b[0;32m----> 1\u001b[0m \u001b[38;5;28;01massert\u001b[39;00m \u001b[38;5;28;01mFalse\u001b[39;00m, \u001b[38;5;124m'\u001b[39m\u001b[38;5;124mAlways Throws this error\u001b[39m\u001b[38;5;124m'\u001b[39m\n",
      "\u001b[0;31mAssertionError\u001b[0m: Always Throws this error"
     ]
    }
   ],
   "source": [
    "assert False, 'Always Throws this error'"
   ]
  },
  {
   "cell_type": "code",
   "execution_count": 3,
   "id": "6ed6ca25",
   "metadata": {
    "ExecuteTime": {
     "end_time": "2022-11-12T12:00:23.906629Z",
     "start_time": "2022-11-12T12:00:23.900266Z"
    }
   },
   "outputs": [],
   "source": [
    "assert True, 'Always Success'"
   ]
  },
  {
   "cell_type": "markdown",
   "id": "d8b53417",
   "metadata": {},
   "source": [
    "# logging - Without filename\n",
    "What are the two lines that must be present in your software in order to call logging.debug()?"
   ]
  },
  {
   "cell_type": "code",
   "execution_count": 4,
   "id": "1235ac75",
   "metadata": {
    "ExecuteTime": {
     "end_time": "2022-11-12T12:00:23.917094Z",
     "start_time": "2022-11-12T12:00:23.911193Z"
    }
   },
   "outputs": [],
   "source": [
    "import logging\n",
    "logging.basicConfig(level=logging.DEBUG, format=' %(asctime)s - %(levelname)s - %(message)s')"
   ]
  },
  {
   "cell_type": "markdown",
   "id": "bc0a872c",
   "metadata": {},
   "source": [
    "# logging - With log filename\n",
    "What are the two lines that your program must have in order to have logging.debug()<br>\n",
    "send a logging message to a file named programLog.txt?"
   ]
  },
  {
   "cell_type": "code",
   "execution_count": 5,
   "id": "e8f10ba9",
   "metadata": {
    "ExecuteTime": {
     "end_time": "2022-11-12T12:00:23.926952Z",
     "start_time": "2022-11-12T12:00:23.922440Z"
    }
   },
   "outputs": [],
   "source": [
    "import logging\n",
    "logging.basicConfig(filename='programLog.txt', level=logging.DEBUG, format=' %(asctime)s - %(levelname)s - %(message)s')"
   ]
  },
  {
   "cell_type": "markdown",
   "id": "a624cb5b",
   "metadata": {},
   "source": [
    "# logging levels\n",
    "What are the five levels of logging?"
   ]
  },
  {
   "cell_type": "code",
   "execution_count": 6,
   "id": "c01a46a7",
   "metadata": {
    "ExecuteTime": {
     "end_time": "2022-11-12T12:00:23.937708Z",
     "start_time": "2022-11-12T12:00:23.930953Z"
    }
   },
   "outputs": [
    {
     "name": "stdout",
     "output_type": "stream",
     "text": [
      "ErrorCode = LevelName \n",
      " {50: 'CRITICAL', 40: 'ERROR', 30: 'WARNING', 20: 'INFO', 10: 'DEBUG', 0: 'NOTSET'}\n"
     ]
    }
   ],
   "source": [
    "import sys\n",
    "import logging\n",
    "from platform import python_version\n",
    "\n",
    "def get_logging_level_names():\n",
    "    if sys.version_info.major == 3 and sys.version_info.minor >= 4:\n",
    "        return logging._levelToName\n",
    "    else:\n",
    "        return logging._levelNames\n",
    "\n",
    "level_names = get_logging_level_names()\n",
    "print('{} \\n {!r}'.format('ErrorCode = LevelName',level_names))"
   ]
  },
  {
   "cell_type": "markdown",
   "id": "3dbee935",
   "metadata": {},
   "source": [
    "# Disable Logging\n",
    "What line of code would you add to your software to disable all logging messages?"
   ]
  },
  {
   "cell_type": "code",
   "execution_count": 7,
   "id": "975e5332",
   "metadata": {
    "ExecuteTime": {
     "end_time": "2022-11-12T12:00:23.948264Z",
     "start_time": "2022-11-12T12:00:23.943017Z"
    }
   },
   "outputs": [],
   "source": [
    "import logging\n",
    "logging.disable(logging.CRITICAL)"
   ]
  },
  {
   "cell_type": "markdown",
   "id": "e54bcee4",
   "metadata": {},
   "source": [
    "# logging vs print\n",
    "Why is using logging messages better than using print() to display the same message?"
   ]
  },
  {
   "cell_type": "raw",
   "id": "b2abbd2a",
   "metadata": {},
   "source": [
    "1. You can Customise the logging message in one pleace\n",
    "2. You can Choose what type of logging needs to be displayed in log\n",
    "3. You can Enable/Disable on-the-go"
   ]
  },
  {
   "cell_type": "markdown",
   "id": "757988ff",
   "metadata": {},
   "source": [
    "# debugger: StepIn StepOut StepOver\n",
    "What are the differences between the Step Over, Step In, and Step Out buttons in the debugger?"
   ]
  },
  {
   "cell_type": "raw",
   "id": "5ee5e055",
   "metadata": {},
   "source": [
    "Step In : Will move the debugger into a function call.\n",
    "Step Over: Will quickly execute the function call without stepping into it.\n",
    "Step Out: Will quickly execute the rest of the code until it steps out of the function it currently is in."
   ]
  },
  {
   "cell_type": "markdown",
   "id": "6397e48f",
   "metadata": {},
   "source": [
    "# degugger: When will stop\n",
    "After you click Continue, when will the debugger stop ?"
   ]
  },
  {
   "cell_type": "raw",
   "id": "ad63d943",
   "metadata": {
    "ExecuteTime": {
     "end_time": "2022-11-12T11:58:19.871817Z",
     "start_time": "2022-11-12T11:58:19.853237Z"
    }
   },
   "source": [
    "The debugger will stop when it has reached the end of the program or a line with a breakpoint."
   ]
  },
  {
   "cell_type": "markdown",
   "id": "750b2264",
   "metadata": {},
   "source": [
    "# degugger: Breakpoint\n",
    "What is the concept of a breakpoint?"
   ]
  },
  {
   "cell_type": "raw",
   "id": "50ccfa5e",
   "metadata": {},
   "source": [
    "breakpoint is a setting on a line of code that causes the debugger to pause when the program execution reaches the line"
   ]
  }
 ],
 "metadata": {
  "kernelspec": {
   "display_name": "Python 3 (ipykernel)",
   "language": "python",
   "name": "python3"
  },
  "language_info": {
   "codemirror_mode": {
    "name": "ipython",
    "version": 3
   },
   "file_extension": ".py",
   "mimetype": "text/x-python",
   "name": "python",
   "nbconvert_exporter": "python",
   "pygments_lexer": "ipython3",
   "version": "3.8.13"
  },
  "toc": {
   "base_numbering": 1,
   "nav_menu": {},
   "number_sections": true,
   "sideBar": true,
   "skip_h1_title": false,
   "title_cell": "Table of Contents",
   "title_sidebar": "Contents",
   "toc_cell": true,
   "toc_position": {},
   "toc_section_display": false,
   "toc_window_display": true
  }
 },
 "nbformat": 4,
 "nbformat_minor": 5
}
