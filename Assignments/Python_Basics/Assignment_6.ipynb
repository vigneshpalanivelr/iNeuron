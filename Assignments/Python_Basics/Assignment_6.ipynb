{
 "cells": [
  {
   "cell_type": "markdown",
   "id": "bf2494bc",
   "metadata": {
    "toc": true
   },
   "source": [
    "<h1>Table of Contents<span class=\"tocSkip\"></span></h1>\n",
    "<div class=\"toc\"><ul class=\"toc-item\"><li><span><a href=\"#All-Escape-Chars\" data-toc-modified-id=\"All-Escape-Chars-1\"><span class=\"toc-item-num\">1&nbsp;&nbsp;</span>All Escape Chars</a></span></li><li><span><a href=\"#\\n-and-\\t-stands-for-?\" data-toc-modified-id=\"\\n-and-\\t-stands-for-?-2\"><span class=\"toc-item-num\">2&nbsp;&nbsp;</span>\\n and \\t stands for ?</a></span></li><li><span><a href=\"#Check-escape-charecter\" data-toc-modified-id=\"Check-escape-charecter-3\"><span class=\"toc-item-num\">3&nbsp;&nbsp;</span>Check escape charecter</a></span></li><li><span><a href=\"#Print-new-lines-without-\\n\" data-toc-modified-id=\"Print-new-lines-without-\\n-4\"><span class=\"toc-item-num\">4&nbsp;&nbsp;</span>Print new lines without \\n</a></span></li><li><span><a href=\"#String-Slicing\" data-toc-modified-id=\"String-Slicing-5\"><span class=\"toc-item-num\">5&nbsp;&nbsp;</span>String Slicing</a></span></li><li><span><a href=\"#String-Functions\" data-toc-modified-id=\"String-Functions-6\"><span class=\"toc-item-num\">6&nbsp;&nbsp;</span>String Functions</a></span></li><li><span><a href=\"#Justifing-Functions\" data-toc-modified-id=\"Justifing-Functions-7\"><span class=\"toc-item-num\">7&nbsp;&nbsp;</span>Justifing Functions</a></span></li><li><span><a href=\"#Clear-Spaces-at-beginning-or-end\" data-toc-modified-id=\"Clear-Spaces-at-beginning-or-end-8\"><span class=\"toc-item-num\">8&nbsp;&nbsp;</span>Clear Spaces at beginning or end</a></span></li></ul></div>"
   ]
  },
  {
   "cell_type": "markdown",
   "id": "14a2eacb",
   "metadata": {},
   "source": [
    "# All Escape Chars\n",
    "Question:1<br>\n",
    "What are escape characters, and how do you use them?"
   ]
  },
  {
   "cell_type": "raw",
   "id": "b47a0b61",
   "metadata": {},
   "source": [
    "The backslash \"\\\" is a special/escape character. \n",
    "It is used to generate/create string dynamically with High readability"
   ]
  },
  {
   "cell_type": "markdown",
   "id": "43c07a8c",
   "metadata": {},
   "source": [
    "# \\n and \\t stands for ?\n",
    "Question:2<br>\n",
    "What do the escape characters n and t stand for?"
   ]
  },
  {
   "cell_type": "raw",
   "id": "d53b1864",
   "metadata": {
    "ExecuteTime": {
     "end_time": "2022-10-01T11:36:11.590483Z",
     "start_time": "2022-10-01T11:36:11.554345Z"
    }
   },
   "source": [
    "\"\\n\" is to insert a newline\n",
    "\"\\t\" is to insert a tab"
   ]
  },
  {
   "cell_type": "markdown",
   "id": "87b0e8b2",
   "metadata": {},
   "source": [
    "# Check escape charecter\n",
    "Question:3<br>\n",
    "The string \"Howl's Moving Castle\" is a correct value. Why isn't the single quote character in the word Howl's not escaped a problem?"
   ]
  },
  {
   "cell_type": "raw",
   "id": "a5caf79d",
   "metadata": {},
   "source": [
    "No Its not a problem, Double Quotes allow single quotes inside it."
   ]
  },
  {
   "cell_type": "markdown",
   "id": "ea858245",
   "metadata": {},
   "source": [
    "# Print new lines without \\n\n",
    "Question:4<br>\n",
    "How do you write a string of newlines if you don&#39;t want to use the n character?"
   ]
  },
  {
   "cell_type": "code",
   "execution_count": 1,
   "id": "da0178d0",
   "metadata": {
    "ExecuteTime": {
     "end_time": "2022-10-01T12:18:53.056454Z",
     "start_time": "2022-10-01T12:18:53.019707Z"
    }
   },
   "outputs": [
    {
     "name": "stdout",
     "output_type": "stream",
     "text": [
      "\n",
      "\n",
      "\n",
      "\n",
      "\n",
      "\n"
     ]
    }
   ],
   "source": [
    "print(\"\"\"\n",
    "\n",
    "\n",
    "\n",
    "\n",
    "\"\"\")"
   ]
  },
  {
   "cell_type": "markdown",
   "id": "80812e39",
   "metadata": {},
   "source": [
    "# String Slicing"
   ]
  },
  {
   "cell_type": "code",
   "execution_count": 2,
   "id": "fd7c250d",
   "metadata": {
    "ExecuteTime": {
     "end_time": "2022-10-01T12:18:53.086827Z",
     "start_time": "2022-10-01T12:18:53.065162Z"
    }
   },
   "outputs": [
    {
     "data": {
      "text/plain": [
       "'e'"
      ]
     },
     "execution_count": 2,
     "metadata": {},
     "output_type": "execute_result"
    }
   ],
   "source": [
    "'Hello, world!'[1]"
   ]
  },
  {
   "cell_type": "code",
   "execution_count": 3,
   "id": "4fad2135",
   "metadata": {
    "ExecuteTime": {
     "end_time": "2022-10-01T12:18:53.099577Z",
     "start_time": "2022-10-01T12:18:53.092440Z"
    }
   },
   "outputs": [
    {
     "data": {
      "text/plain": [
       "'Hello'"
      ]
     },
     "execution_count": 3,
     "metadata": {},
     "output_type": "execute_result"
    }
   ],
   "source": [
    "'Hello, world!'[0:5]"
   ]
  },
  {
   "cell_type": "code",
   "execution_count": 4,
   "id": "61d4bfbd",
   "metadata": {
    "ExecuteTime": {
     "end_time": "2022-10-01T12:18:53.119829Z",
     "start_time": "2022-10-01T12:18:53.106831Z"
    }
   },
   "outputs": [
    {
     "data": {
      "text/plain": [
       "'Hello'"
      ]
     },
     "execution_count": 4,
     "metadata": {},
     "output_type": "execute_result"
    }
   ],
   "source": [
    "'Hello, world!'[:5]"
   ]
  },
  {
   "cell_type": "code",
   "execution_count": 5,
   "id": "fbc19fbb",
   "metadata": {
    "ExecuteTime": {
     "end_time": "2022-10-01T12:18:53.136037Z",
     "start_time": "2022-10-01T12:18:53.128229Z"
    }
   },
   "outputs": [
    {
     "data": {
      "text/plain": [
       "'lo, world!'"
      ]
     },
     "execution_count": 5,
     "metadata": {},
     "output_type": "execute_result"
    }
   ],
   "source": [
    "'Hello, world!'[3:]"
   ]
  },
  {
   "cell_type": "markdown",
   "id": "613268cc",
   "metadata": {},
   "source": [
    "# String Functions"
   ]
  },
  {
   "cell_type": "code",
   "execution_count": 6,
   "id": "16fc128e",
   "metadata": {
    "ExecuteTime": {
     "end_time": "2022-10-01T12:18:53.155891Z",
     "start_time": "2022-10-01T12:18:53.142146Z"
    }
   },
   "outputs": [
    {
     "data": {
      "text/plain": [
       "'HELLO'"
      ]
     },
     "execution_count": 6,
     "metadata": {},
     "output_type": "execute_result"
    }
   ],
   "source": [
    "'Hello'.upper()"
   ]
  },
  {
   "cell_type": "code",
   "execution_count": 7,
   "id": "fe5d5419",
   "metadata": {
    "ExecuteTime": {
     "end_time": "2022-10-01T12:18:53.166945Z",
     "start_time": "2022-10-01T12:18:53.159894Z"
    }
   },
   "outputs": [
    {
     "data": {
      "text/plain": [
       "True"
      ]
     },
     "execution_count": 7,
     "metadata": {},
     "output_type": "execute_result"
    }
   ],
   "source": [
    "'Hello'.upper().isupper()"
   ]
  },
  {
   "cell_type": "code",
   "execution_count": 8,
   "id": "31cb7856",
   "metadata": {
    "ExecuteTime": {
     "end_time": "2022-10-01T12:18:53.181624Z",
     "start_time": "2022-10-01T12:18:53.172545Z"
    }
   },
   "outputs": [
    {
     "data": {
      "text/plain": [
       "'hello'"
      ]
     },
     "execution_count": 8,
     "metadata": {},
     "output_type": "execute_result"
    }
   ],
   "source": [
    "'Hello'.upper().lower()"
   ]
  },
  {
   "cell_type": "code",
   "execution_count": 9,
   "id": "4cc2ce20",
   "metadata": {
    "ExecuteTime": {
     "end_time": "2022-10-01T12:18:53.223979Z",
     "start_time": "2022-10-01T12:18:53.189353Z"
    }
   },
   "outputs": [
    {
     "data": {
      "text/plain": [
       "['Remember,', 'remember,', 'the', 'fifth', 'of', 'July.']"
      ]
     },
     "execution_count": 9,
     "metadata": {},
     "output_type": "execute_result"
    }
   ],
   "source": [
    "'Remember, remember, the fifth of July.'.split()"
   ]
  },
  {
   "cell_type": "code",
   "execution_count": 10,
   "id": "c76e73bb",
   "metadata": {
    "ExecuteTime": {
     "end_time": "2022-10-01T12:18:53.341472Z",
     "start_time": "2022-10-01T12:18:53.324823Z"
    }
   },
   "outputs": [
    {
     "data": {
      "text/plain": [
       "'There-can-only-one.'"
      ]
     },
     "execution_count": 10,
     "metadata": {},
     "output_type": "execute_result"
    }
   ],
   "source": [
    "'-'.join('There can only one.'.split())"
   ]
  },
  {
   "cell_type": "markdown",
   "id": "d71a00c5",
   "metadata": {},
   "source": [
    "# Justifing Functions\n",
    "Question:9<br>\n",
    "What are the methods for right-justifying, left-justifying, and centering a string?"
   ]
  },
  {
   "cell_type": "raw",
   "id": "df139fcd",
   "metadata": {},
   "source": [
    "1. string.ljust(total_char(int), char to fill)\n",
    "2. string.rjust(total_char(int), char to fill)\n",
    "3. string.center(total_char(int), char to fill)"
   ]
  },
  {
   "cell_type": "code",
   "execution_count": 11,
   "id": "616bd64d",
   "metadata": {
    "ExecuteTime": {
     "end_time": "2022-10-01T12:18:53.369761Z",
     "start_time": "2022-10-01T12:18:53.355791Z"
    }
   },
   "outputs": [
    {
     "name": "stdout",
     "output_type": "stream",
     "text": [
      "Input string: \n",
      "Engineering Discipline\n"
     ]
    }
   ],
   "source": [
    "input_str = 'Engineering Discipline'\n",
    "print (f\"Input string: \\n{input_str}\")"
   ]
  },
  {
   "cell_type": "code",
   "execution_count": 12,
   "id": "343418ce",
   "metadata": {
    "ExecuteTime": {
     "end_time": "2022-10-01T12:18:53.403756Z",
     "start_time": "2022-10-01T12:18:53.393996Z"
    }
   },
   "outputs": [
    {
     "name": "stdout",
     "output_type": "stream",
     "text": [
      "Left justified string: \n",
      "Engineering Discipline********\n"
     ]
    }
   ],
   "source": [
    "print (\"Left justified string: \") \n",
    "print (input_str.ljust(30, '*')) "
   ]
  },
  {
   "cell_type": "code",
   "execution_count": 13,
   "id": "7fd37777",
   "metadata": {
    "ExecuteTime": {
     "end_time": "2022-10-01T12:18:53.424951Z",
     "start_time": "2022-10-01T12:18:53.417830Z"
    }
   },
   "outputs": [
    {
     "name": "stdout",
     "output_type": "stream",
     "text": [
      "Right justified string: \n",
      "********Engineering Discipline\n"
     ]
    }
   ],
   "source": [
    "print (\"Right justified string: \") \n",
    "print (input_str.rjust(30, '*')) "
   ]
  },
  {
   "cell_type": "code",
   "execution_count": 14,
   "id": "02c646b7",
   "metadata": {
    "ExecuteTime": {
     "end_time": "2022-10-01T12:18:53.446435Z",
     "start_time": "2022-10-01T12:18:53.434983Z"
    }
   },
   "outputs": [
    {
     "name": "stdout",
     "output_type": "stream",
     "text": [
      "Center justified string: \n",
      "****Engineering Discipline****\n"
     ]
    }
   ],
   "source": [
    "print (\"Center justified string: \") \n",
    "print (input_str.center(30, '*')) "
   ]
  },
  {
   "cell_type": "markdown",
   "id": "49fbc2fa",
   "metadata": {},
   "source": [
    "# Clear Spaces at beginning or end\n",
    "Question:10<br>\n",
    "What is the best way to remove whitespace characters from the start or end?"
   ]
  },
  {
   "cell_type": "code",
   "execution_count": 15,
   "id": "6db31095",
   "metadata": {
    "ExecuteTime": {
     "end_time": "2022-10-01T12:18:53.465289Z",
     "start_time": "2022-10-01T12:18:53.453223Z"
    }
   },
   "outputs": [
    {
     "name": "stdout",
     "output_type": "stream",
     "text": [
      "     Hello there!    \n"
     ]
    }
   ],
   "source": [
    "hello = '     Hello there!    '\n",
    "print(hello)"
   ]
  },
  {
   "cell_type": "code",
   "execution_count": 16,
   "id": "e240e592",
   "metadata": {
    "ExecuteTime": {
     "end_time": "2022-10-01T12:18:53.484010Z",
     "start_time": "2022-10-01T12:18:53.473147Z"
    }
   },
   "outputs": [
    {
     "name": "stdout",
     "output_type": "stream",
     "text": [
      "Hello there!\n"
     ]
    }
   ],
   "source": [
    "print(hello.strip()) # Removes from both the ends"
   ]
  },
  {
   "cell_type": "code",
   "execution_count": 17,
   "id": "34cdbb70",
   "metadata": {
    "ExecuteTime": {
     "end_time": "2022-10-01T12:18:53.502327Z",
     "start_time": "2022-10-01T12:18:53.495027Z"
    }
   },
   "outputs": [
    {
     "name": "stdout",
     "output_type": "stream",
     "text": [
      "Hello there!    \n"
     ]
    }
   ],
   "source": [
    "print(hello.lstrip()) # Removes from the beginning"
   ]
  },
  {
   "cell_type": "code",
   "execution_count": 18,
   "id": "3f839ab6",
   "metadata": {
    "ExecuteTime": {
     "end_time": "2022-10-01T12:18:53.517614Z",
     "start_time": "2022-10-01T12:18:53.512189Z"
    }
   },
   "outputs": [
    {
     "name": "stdout",
     "output_type": "stream",
     "text": [
      "     Hello there!\n"
     ]
    }
   ],
   "source": [
    "print(hello.rstrip()) # Removes from the Reverse"
   ]
  }
 ],
 "metadata": {
  "kernelspec": {
   "display_name": "Python 3 (ipykernel)",
   "language": "python",
   "name": "python3"
  },
  "language_info": {
   "codemirror_mode": {
    "name": "ipython",
    "version": 3
   },
   "file_extension": ".py",
   "mimetype": "text/x-python",
   "name": "python",
   "nbconvert_exporter": "python",
   "pygments_lexer": "ipython3",
   "version": "3.8.13"
  },
  "toc": {
   "base_numbering": 1,
   "nav_menu": {},
   "number_sections": true,
   "sideBar": true,
   "skip_h1_title": false,
   "title_cell": "Table of Contents",
   "title_sidebar": "Contents",
   "toc_cell": true,
   "toc_position": {
    "height": "calc(100% - 180px)",
    "left": "10px",
    "top": "150px",
    "width": "384px"
   },
   "toc_section_display": true,
   "toc_window_display": true
  }
 },
 "nbformat": 4,
 "nbformat_minor": 5
}
