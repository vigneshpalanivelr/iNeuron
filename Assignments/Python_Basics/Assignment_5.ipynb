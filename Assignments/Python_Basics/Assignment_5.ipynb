{
 "cells": [
  {
   "cell_type": "markdown",
   "id": "5a6538d7",
   "metadata": {
    "toc": true
   },
   "source": [
    "<h1>Table of Contents<span class=\"tocSkip\"></span></h1>\n",
    "<div class=\"toc\"><ul class=\"toc-item\"><li><span><a href=\"#Empty-Dictionary\" data-toc-modified-id=\"Empty-Dictionary-1\"><span class=\"toc-item-num\">1&nbsp;&nbsp;</span>Empty Dictionary</a></span></li><li><span><a href=\"#Value-of-a-Dict\" data-toc-modified-id=\"Value-of-a-Dict-2\"><span class=\"toc-item-num\">2&nbsp;&nbsp;</span>Value of a Dict</a></span></li><li><span><a href=\"#Dict-vs-List\" data-toc-modified-id=\"Dict-vs-List-3\"><span class=\"toc-item-num\">3&nbsp;&nbsp;</span>Dict vs List</a></span></li><li><span><a href=\"#Access-the-dict\" data-toc-modified-id=\"Access-the-dict-4\"><span class=\"toc-item-num\">4&nbsp;&nbsp;</span>Access the dict</a></span></li><li><span><a href=\"#In-condition-in-dict\" data-toc-modified-id=\"In-condition-in-dict-5\"><span class=\"toc-item-num\">5&nbsp;&nbsp;</span>In condition in dict</a></span></li><li><span><a href=\"#setdefault(key,-value)-in-Dict\" data-toc-modified-id=\"setdefault(key,-value)-in-Dict-6\"><span class=\"toc-item-num\">6&nbsp;&nbsp;</span>setdefault(key, value) in Dict</a></span></li><li><span><a href=\"#Pretty-Print-the-Dict\" data-toc-modified-id=\"Pretty-Print-the-Dict-7\"><span class=\"toc-item-num\">7&nbsp;&nbsp;</span>Pretty Print the Dict</a></span></li></ul></div>"
   ]
  },
  {
   "cell_type": "markdown",
   "id": "2d97b496",
   "metadata": {},
   "source": [
    "# Empty Dictionary\n",
    "Question:1<br>\n",
    "What does an empty dictionary's code look like?"
   ]
  },
  {
   "cell_type": "code",
   "execution_count": 1,
   "id": "6401e24c",
   "metadata": {
    "ExecuteTime": {
     "end_time": "2022-10-01T11:14:15.360555Z",
     "start_time": "2022-10-01T11:14:15.298822Z"
    }
   },
   "outputs": [
    {
     "data": {
      "text/plain": [
       "{}"
      ]
     },
     "execution_count": 1,
     "metadata": {},
     "output_type": "execute_result"
    }
   ],
   "source": [
    "dict()"
   ]
  },
  {
   "cell_type": "markdown",
   "id": "d2ebe33a",
   "metadata": {},
   "source": [
    "# Value of a Dict\n",
    "Question:2<br>\n",
    "What is the value of a dictionary value with the key &#39;foo&#39; and the value 42?"
   ]
  },
  {
   "cell_type": "code",
   "execution_count": 2,
   "id": "911f3345",
   "metadata": {
    "ExecuteTime": {
     "end_time": "2022-10-01T11:14:15.426378Z",
     "start_time": "2022-10-01T11:14:15.369453Z"
    }
   },
   "outputs": [
    {
     "data": {
      "text/plain": [
       "dict_values([42])"
      ]
     },
     "execution_count": 2,
     "metadata": {},
     "output_type": "execute_result"
    }
   ],
   "source": [
    "dic = {'foo': 42}\n",
    "dic.values()"
   ]
  },
  {
   "cell_type": "markdown",
   "id": "118b13a9",
   "metadata": {},
   "source": [
    "# Dict vs List\n",
    "Question:3<br>\n",
    "What is the most significant distinction between a dictionary and a list?"
   ]
  },
  {
   "cell_type": "markdown",
   "id": "7e3b09e5",
   "metadata": {},
   "source": [
    "| List | Dictionary |\n",
    "| ---- | ---------- |\n",
    "| The elements are accessed via indices | The elements are accessed via key-values |\n",
    "| The order of the elements entered are maintained | There is no guarantee for maintaining order |"
   ]
  },
  {
   "cell_type": "markdown",
   "id": "1c006f33",
   "metadata": {},
   "source": [
    "# Access the dict\n",
    "Question:4<br>\n",
    "What happens if you try to access spam['foo'] if spam is {bar: 100}?"
   ]
  },
  {
   "cell_type": "raw",
   "id": "10d55361",
   "metadata": {},
   "source": [
    "There is no such key exsists, hence it is \"KeyError\""
   ]
  },
  {
   "cell_type": "code",
   "execution_count": 3,
   "id": "97dc06c7",
   "metadata": {
    "ExecuteTime": {
     "end_time": "2022-10-01T10:46:23.915349Z",
     "start_time": "2022-10-01T10:46:23.165872Z"
    },
    "deletable": false,
    "editable": false,
    "run_control": {
     "frozen": true
    }
   },
   "outputs": [
    {
     "ename": "KeyError",
     "evalue": "'foo'",
     "output_type": "error",
     "traceback": [
      "\u001b[0;31m---------------------------------------------------------------------------\u001b[0m",
      "\u001b[0;31mKeyError\u001b[0m                                  Traceback (most recent call last)",
      "Input \u001b[0;32mIn [3]\u001b[0m, in \u001b[0;36m<cell line: 2>\u001b[0;34m()\u001b[0m\n\u001b[1;32m      1\u001b[0m spam \u001b[38;5;241m=\u001b[39m {\u001b[38;5;124m'\u001b[39m\u001b[38;5;124mbar\u001b[39m\u001b[38;5;124m'\u001b[39m: \u001b[38;5;241m100\u001b[39m}\n\u001b[0;32m----> 2\u001b[0m \u001b[43mspam\u001b[49m\u001b[43m[\u001b[49m\u001b[38;5;124;43m'\u001b[39;49m\u001b[38;5;124;43mfoo\u001b[39;49m\u001b[38;5;124;43m'\u001b[39;49m\u001b[43m]\u001b[49m\n",
      "\u001b[0;31mKeyError\u001b[0m: 'foo'"
     ]
    }
   ],
   "source": [
    "spam = {'bar': 100}\n",
    "spam['foo']"
   ]
  },
  {
   "cell_type": "markdown",
   "id": "734b18f8",
   "metadata": {},
   "source": [
    "# In condition in dict\n",
    "Question:5<br>\n",
    "If a dictionary is stored in spam, what is the difference between the expressions 'cat' in spam and 'cat' in spam.keys()?"
   ]
  },
  {
   "cell_type": "raw",
   "id": "4d5801a0",
   "metadata": {},
   "source": [
    "No difference.\n",
    "In operator checks whether a value exists as a key in the dictionary. \n",
    "\n",
    "'cat' in spam       : checks whether there is a 'cat' key in the dictionary.\n",
    "'cat' in spam.keys(): checks whether there is a 'cat' value in one of the keys in spam."
   ]
  },
  {
   "cell_type": "markdown",
   "id": "f83b5e01",
   "metadata": {},
   "source": [
    "Question:6<br>\n",
    "If a dictionary is stored in spam, what is the difference between the expressions 'cat' in spam and 'cat' in spam.values()?"
   ]
  },
  {
   "cell_type": "raw",
   "id": "aef26231",
   "metadata": {},
   "source": [
    "Yes There is a difference as mentioned below\n",
    "\n",
    "'cat' in spam         : checks whether there is a 'cat' key in the dictionary.\n",
    "'cat' in spam.values(): checks whether there is a value 'cat' for one of the keys in spam."
   ]
  },
  {
   "cell_type": "markdown",
   "id": "be7c4d62",
   "metadata": {
    "ExecuteTime": {
     "end_time": "2022-10-01T10:44:29.242225Z",
     "start_time": "2022-10-01T10:44:29.230625Z"
    }
   },
   "source": [
    "# setdefault(key, value) in Dict\n",
    "Question:7<br>\n",
    "What is a shortcut for the following code?<br>"
   ]
  },
  {
   "cell_type": "code",
   "execution_count": 3,
   "id": "9879301d",
   "metadata": {
    "ExecuteTime": {
     "end_time": "2022-10-01T11:14:15.474393Z",
     "start_time": "2022-10-01T11:14:15.448261Z"
    }
   },
   "outputs": [],
   "source": [
    "spam = dict() # Initializing the dict variable\n",
    "if 'color' not in spam:\n",
    "    spam['color'] = 'black'"
   ]
  },
  {
   "cell_type": "code",
   "execution_count": 4,
   "id": "cbc6089f",
   "metadata": {
    "ExecuteTime": {
     "end_time": "2022-10-01T11:14:15.510765Z",
     "start_time": "2022-10-01T11:14:15.482425Z"
    }
   },
   "outputs": [
    {
     "data": {
      "text/plain": [
       "{'color': 'black'}"
      ]
     },
     "execution_count": 4,
     "metadata": {},
     "output_type": "execute_result"
    }
   ],
   "source": [
    "spam = dict() # Initializing the dict variable\n",
    "\n",
    "# Shortcut-1\n",
    "spam['color'] = 'black' if 'color' not in spam else None\n",
    "spam"
   ]
  },
  {
   "cell_type": "code",
   "execution_count": 5,
   "id": "011656fa",
   "metadata": {
    "ExecuteTime": {
     "end_time": "2022-10-01T11:14:15.534212Z",
     "start_time": "2022-10-01T11:14:15.516409Z"
    }
   },
   "outputs": [
    {
     "data": {
      "text/plain": [
       "{'color': 'black'}"
      ]
     },
     "execution_count": 5,
     "metadata": {},
     "output_type": "execute_result"
    }
   ],
   "source": [
    "spam = dict() # Initializing the dict variable\n",
    "\n",
    "# Shortcut-2\n",
    "spam['color'] = 'black' if spam.get('color') is None else None\n",
    "spam"
   ]
  },
  {
   "cell_type": "code",
   "execution_count": 6,
   "id": "1f52cebe",
   "metadata": {
    "ExecuteTime": {
     "end_time": "2022-10-01T11:14:15.566133Z",
     "start_time": "2022-10-01T11:14:15.554151Z"
    }
   },
   "outputs": [
    {
     "data": {
      "text/plain": [
       "{'color': 'black'}"
      ]
     },
     "execution_count": 6,
     "metadata": {},
     "output_type": "execute_result"
    }
   ],
   "source": [
    "spam = dict() # Initializing the dict variable\n",
    "\n",
    "# Shortcut-3\n",
    "spam.setdefault('color','black')\n",
    "spam"
   ]
  },
  {
   "cell_type": "markdown",
   "id": "fcff512b",
   "metadata": {},
   "source": [
    "# Pretty Print the Dict\n",
    "Question:8<br>\n",
    "How do you 'pretty print' dictionary values using which module and function?"
   ]
  },
  {
   "cell_type": "code",
   "execution_count": 7,
   "id": "d17d1139",
   "metadata": {
    "ExecuteTime": {
     "end_time": "2022-10-01T11:14:15.603136Z",
     "start_time": "2022-10-01T11:14:15.581629Z"
    }
   },
   "outputs": [
    {
     "name": "stdout",
     "output_type": "stream",
     "text": [
      "Normal Print\n",
      "{'name': 'Nik', 'age': 31, 'gender': 'male', 'books': ['Harry Potter', 'Lord of the Rings']}\n"
     ]
    }
   ],
   "source": [
    "sample_dict = {'name': 'Nik', 'age': 31, 'gender': 'male', 'books': ['Harry Potter', 'Lord of the Rings']}\n",
    "print('Normal Print')\n",
    "print(sample_dict)"
   ]
  },
  {
   "cell_type": "code",
   "execution_count": 8,
   "id": "cc6d4078",
   "metadata": {
    "ExecuteTime": {
     "end_time": "2022-10-01T11:14:15.629614Z",
     "start_time": "2022-10-01T11:14:15.613707Z"
    }
   },
   "outputs": [
    {
     "name": "stdout",
     "output_type": "stream",
     "text": [
      "Using Pretty Print\n",
      "{'age': 31,\n",
      " 'books': ['Harry Potter', 'Lord of the Rings'],\n",
      " 'gender': 'male',\n",
      " 'name': 'Nik'}\n"
     ]
    }
   ],
   "source": [
    "import pprint\n",
    "print('Using Pretty Print')\n",
    "pprint.pprint(sample_dict)"
   ]
  }
 ],
 "metadata": {
  "kernelspec": {
   "display_name": "Python 3 (ipykernel)",
   "language": "python",
   "name": "python3"
  },
  "language_info": {
   "codemirror_mode": {
    "name": "ipython",
    "version": 3
   },
   "file_extension": ".py",
   "mimetype": "text/x-python",
   "name": "python",
   "nbconvert_exporter": "python",
   "pygments_lexer": "ipython3",
   "version": "3.8.13"
  },
  "toc": {
   "base_numbering": 1,
   "nav_menu": {},
   "number_sections": true,
   "sideBar": true,
   "skip_h1_title": false,
   "title_cell": "Table of Contents",
   "title_sidebar": "Contents",
   "toc_cell": true,
   "toc_position": {},
   "toc_section_display": true,
   "toc_window_display": true
  }
 },
 "nbformat": 4,
 "nbformat_minor": 5
}
