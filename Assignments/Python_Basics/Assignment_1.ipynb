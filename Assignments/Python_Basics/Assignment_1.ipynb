{
 "cells": [
  {
   "cell_type": "markdown",
   "id": "b4e51238",
   "metadata": {
    "toc": true
   },
   "source": [
    "<h1>Table of Contents<span class=\"tocSkip\"></span></h1>\n",
    "<div class=\"toc\"><ul class=\"toc-item\"><li><span><a href=\"#values-or-expression\" data-toc-modified-id=\"values-or-expression-1\"><span class=\"toc-item-num\">1&nbsp;&nbsp;</span>values or expression</a></span></li><li><span><a href=\"#string-vs-variable\" data-toc-modified-id=\"string-vs-variable-2\"><span class=\"toc-item-num\">2&nbsp;&nbsp;</span>string vs variable</a></span></li><li><span><a href=\"#Data-Types\" data-toc-modified-id=\"Data-Types-3\"><span class=\"toc-item-num\">3&nbsp;&nbsp;</span>Data Types</a></span></li><li><span><a href=\"#Expression\" data-toc-modified-id=\"Expression-4\"><span class=\"toc-item-num\">4&nbsp;&nbsp;</span>Expression</a></span></li><li><span><a href=\"#expression-vs-statement\" data-toc-modified-id=\"expression-vs-statement-5\"><span class=\"toc-item-num\">5&nbsp;&nbsp;</span>expression vs statement</a></span></li><li><span><a href=\"#variable-bacon\" data-toc-modified-id=\"variable-bacon-6\"><span class=\"toc-item-num\">6&nbsp;&nbsp;</span>variable bacon</a></span></li><li><span><a href=\"#Concatenate\" data-toc-modified-id=\"Concatenate-7\"><span class=\"toc-item-num\">7&nbsp;&nbsp;</span>Concatenate</a></span></li><li><span><a href=\"#Variable-eggs-vs-100\" data-toc-modified-id=\"Variable-eggs-vs-100-8\"><span class=\"toc-item-num\">8&nbsp;&nbsp;</span>Variable eggs vs 100</a></span></li><li><span><a href=\"#integer,-floating-point-number,-or-string\" data-toc-modified-id=\"integer,-floating-point-number,-or-string-9\"><span class=\"toc-item-num\">9&nbsp;&nbsp;</span>integer, floating-point number, or string</a></span></li><li><span><a href=\"#Fix-the-expression\" data-toc-modified-id=\"Fix-the-expression-10\"><span class=\"toc-item-num\">10&nbsp;&nbsp;</span>Fix the expression</a></span></li></ul></div>"
   ]
  },
  {
   "cell_type": "markdown",
   "id": "53b86a95",
   "metadata": {},
   "source": [
    "# values or expression\n",
    "Question:1<br>\n",
    "In the below elements which of them are values or an expression?<br>\n",
    "eg:- values can be integer or string and expressions will be mathematical operators."
   ]
  },
  {
   "cell_type": "raw",
   "id": "db051db0",
   "metadata": {
    "ExecuteTime": {
     "end_time": "2022-09-19T16:32:00.743685Z",
     "start_time": "2022-09-19T16:32:00.729450Z"
    }
   },
   "source": [
    "*         => Expression (Mathematical Operator)\n",
    "'hello'   => Value      (String)\n",
    "-87.8     => Value      (Negetive Number)\n",
    "-         => Expression (Mathematical Operator)\n",
    "/         => Expression (Mathematical Operator)\n",
    "+         => Expression (Mathematical Operator)\n",
    "6         => Value      (Integer)"
   ]
  },
  {
   "cell_type": "markdown",
   "id": "0c964d02",
   "metadata": {},
   "source": [
    "# string vs variable\n",
    "Question:2<br>\n",
    "What is the difference between string and variable?"
   ]
  },
  {
   "cell_type": "raw",
   "id": "16752208",
   "metadata": {},
   "source": [
    "Variable is a store of information.\n",
    "String is a type of information you would store in a Variable.\n",
    "\n",
    "Difference:<br>\n",
    "1. A Variable can be string type but Strings cannot be variables.\n",
    "2. Unlike Strings, Variable can be copied to another Variable and so on\n",
    "3. Variable has its own rules but strings not having any rules (\"and, or, not .. -> Connot be variables\")\n",
    "4. Stings are Objects but Variable are references to the Objects"
   ]
  },
  {
   "cell_type": "markdown",
   "id": "681b3359",
   "metadata": {},
   "source": [
    "# Data Types"
   ]
  },
  {
   "cell_type": "raw",
   "id": "5f2b96b6",
   "metadata": {},
   "source": [
    "Categories\t\tData Types\n",
    "==========\t\t==========\n",
    "Text Type:\t\tstr\n",
    "Numeric Types:\tint, float, complex\n",
    "Sequence Types:\tlist, tuple, range\n",
    "Mapping Type:\tdict\n",
    "Set Types:\t\tset, frozenset\n",
    "Boolean Type:\tbool\n",
    "Binary Types:\tbytes, bytearray, memoryview\n",
    "None Type:\t\tNoneType"
   ]
  },
  {
   "cell_type": "markdown",
   "id": "70b18dfa",
   "metadata": {
    "ExecuteTime": {
     "end_time": "2022-09-24T11:21:43.141679Z",
     "start_time": "2022-09-24T11:21:43.077833Z"
    }
   },
   "source": [
    "Question:3<br>\n",
    "Describe three different datatypes"
   ]
  },
  {
   "cell_type": "raw",
   "id": "608738e5",
   "metadata": {},
   "source": [
    "Boolen: Used to represent the truth value of an expression\n",
    "None  : The None keyword is used to define a null value, or no value at all. None is not the same as 0, False, or an empty string. None is a data type of its own             (NoneType) and only None can be None.\n",
    "List  : The list is a sequence data type which is used to store the collection of data."
   ]
  },
  {
   "cell_type": "markdown",
   "id": "4dbbf474",
   "metadata": {},
   "source": [
    "# Expression\n",
    "Question:4<br>\n",
    "What is an expression made up of?<br>\n",
    "What do all expressions do?"
   ]
  },
  {
   "cell_type": "raw",
   "id": "74805c2e",
   "metadata": {},
   "source": [
    "Expression is a combination of operators and operands.\n",
    "That is interpreted to produce some other value(s)"
   ]
  },
  {
   "cell_type": "markdown",
   "id": "8104a827",
   "metadata": {},
   "source": [
    "# expression vs statement\n",
    "Question:5<br>\n",
    "This assignment statements, like spam = 10. What is the difference between an expression and a statement?"
   ]
  },
  {
   "cell_type": "raw",
   "id": "a76ead3f",
   "metadata": {},
   "source": [
    "A statement does creating a variable or displaying a value but An Expression always evaluates to a value.\n",
    "An expression does not contain a keyword.\n",
    "\n",
    "while : statement\n",
    "for   : statement\n",
    "if    : statement\n",
    "import: statement"
   ]
  },
  {
   "cell_type": "code",
   "execution_count": 5,
   "id": "4f48841e",
   "metadata": {
    "ExecuteTime": {
     "end_time": "2022-09-19T17:26:04.238459Z",
     "start_time": "2022-09-19T17:26:04.233958Z"
    }
   },
   "outputs": [],
   "source": [
    "# A statement does creating a variable\n",
    "spam = 10"
   ]
  },
  {
   "cell_type": "code",
   "execution_count": 6,
   "id": "2dcbf46a",
   "metadata": {
    "ExecuteTime": {
     "end_time": "2022-09-19T17:26:04.813615Z",
     "start_time": "2022-09-19T17:26:04.806688Z"
    }
   },
   "outputs": [
    {
     "name": "stdout",
     "output_type": "stream",
     "text": [
      "10\n"
     ]
    }
   ],
   "source": [
    "# A statement does displaying a value\n",
    "print(spam)"
   ]
  },
  {
   "cell_type": "code",
   "execution_count": 8,
   "id": "9d8a690a",
   "metadata": {
    "ExecuteTime": {
     "end_time": "2022-09-19T17:26:15.363029Z",
     "start_time": "2022-09-19T17:26:15.345312Z"
    }
   },
   "outputs": [
    {
     "data": {
      "text/plain": [
       "16.3"
      ]
     },
     "execution_count": 8,
     "metadata": {},
     "output_type": "execute_result"
    }
   ],
   "source": [
    "# An Expression always evaluates to a value\n",
    "15 + 1.3"
   ]
  },
  {
   "cell_type": "markdown",
   "id": "e09e1192",
   "metadata": {},
   "source": [
    "# variable bacon\n",
    "Question:6<br>\n",
    "After running the following code, what does the variable bacon contain?<br>\n",
    "bacon = 22<br>\n",
    "bacon + 1"
   ]
  },
  {
   "cell_type": "code",
   "execution_count": 9,
   "id": "4b027e6c",
   "metadata": {
    "ExecuteTime": {
     "end_time": "2022-09-19T17:29:44.161568Z",
     "start_time": "2022-09-19T17:29:44.152954Z"
    }
   },
   "outputs": [
    {
     "data": {
      "text/plain": [
       "23"
      ]
     },
     "execution_count": 9,
     "metadata": {},
     "output_type": "execute_result"
    }
   ],
   "source": [
    "bacon = 22\n",
    "bacon + 1"
   ]
  },
  {
   "cell_type": "code",
   "execution_count": 10,
   "id": "9df9e806",
   "metadata": {
    "ExecuteTime": {
     "end_time": "2022-09-19T17:29:55.567848Z",
     "start_time": "2022-09-19T17:29:55.532423Z"
    }
   },
   "outputs": [
    {
     "data": {
      "text/plain": [
       "22"
      ]
     },
     "execution_count": 10,
     "metadata": {},
     "output_type": "execute_result"
    }
   ],
   "source": [
    "bacon # Value of bacon"
   ]
  },
  {
   "cell_type": "markdown",
   "id": "5d395d8c",
   "metadata": {
    "ExecuteTime": {
     "end_time": "2022-09-19T17:32:10.133690Z",
     "start_time": "2022-09-19T17:32:10.118801Z"
    }
   },
   "source": [
    "# Concatenate \n",
    "Question:7<br>\n",
    "What should the values of the following two terms be?<br>\n",
    "'spam' + 'spamspam'<br>\n",
    "'spam' * 3"
   ]
  },
  {
   "cell_type": "code",
   "execution_count": 12,
   "id": "f21f2dc2",
   "metadata": {
    "ExecuteTime": {
     "end_time": "2022-09-19T17:32:59.548430Z",
     "start_time": "2022-09-19T17:32:59.539431Z"
    }
   },
   "outputs": [
    {
     "data": {
      "text/plain": [
       "'spamspamspam'"
      ]
     },
     "execution_count": 12,
     "metadata": {},
     "output_type": "execute_result"
    }
   ],
   "source": [
    "'spam' + 'spamspam' "
   ]
  },
  {
   "cell_type": "code",
   "execution_count": 13,
   "id": "2abebd7f",
   "metadata": {
    "ExecuteTime": {
     "end_time": "2022-09-19T17:33:06.627889Z",
     "start_time": "2022-09-19T17:33:06.619237Z"
    }
   },
   "outputs": [
    {
     "data": {
      "text/plain": [
       "'spamspamspam'"
      ]
     },
     "execution_count": 13,
     "metadata": {},
     "output_type": "execute_result"
    }
   ],
   "source": [
    "'spam' * 3"
   ]
  },
  {
   "cell_type": "markdown",
   "id": "5654ea35",
   "metadata": {},
   "source": [
    "# Variable eggs vs 100\n",
    "Question:8<br>\n",
    "Why is eggs a valid variable name while 100 is invalid?"
   ]
  },
  {
   "cell_type": "raw",
   "id": "9c89c87a",
   "metadata": {
    "ExecuteTime": {
     "end_time": "2022-09-19T17:34:58.478409Z",
     "start_time": "2022-09-19T17:34:58.469340Z"
    }
   },
   "source": [
    "Variables cannot contain only numbers"
   ]
  },
  {
   "cell_type": "markdown",
   "id": "9b59fbe7",
   "metadata": {},
   "source": [
    "# integer, floating-point number, or string\n",
    "Question:9<br>\n",
    "What three functions can be used to get the integer, floating-point number, or string version of a value?"
   ]
  },
  {
   "cell_type": "code",
   "execution_count": 31,
   "id": "2f0a4756",
   "metadata": {
    "ExecuteTime": {
     "end_time": "2022-09-19T17:42:55.634066Z",
     "start_time": "2022-09-19T17:42:55.626919Z"
    }
   },
   "outputs": [],
   "source": [
    "num1 = 5.9\n",
    "num2 = 5.99999999999999999999\n",
    "\n",
    "\n",
    "num3 = int(num1)\n",
    "num4 = int(num2)\n",
    "\n",
    "num5 = float(num1)\n",
    "num6 = float(num2)\n",
    "\n",
    "str1 = str(num1)\n",
    "str2 = str(num2)"
   ]
  },
  {
   "cell_type": "code",
   "execution_count": 27,
   "id": "b6bc22a8",
   "metadata": {
    "ExecuteTime": {
     "end_time": "2022-09-19T17:42:07.222477Z",
     "start_time": "2022-09-19T17:42:07.208565Z"
    }
   },
   "outputs": [
    {
     "data": {
      "text/plain": [
       "5"
      ]
     },
     "execution_count": 27,
     "metadata": {},
     "output_type": "execute_result"
    }
   ],
   "source": [
    "num3"
   ]
  },
  {
   "cell_type": "code",
   "execution_count": 28,
   "id": "bcf9d62e",
   "metadata": {
    "ExecuteTime": {
     "end_time": "2022-09-19T17:42:07.471010Z",
     "start_time": "2022-09-19T17:42:07.457184Z"
    }
   },
   "outputs": [
    {
     "data": {
      "text/plain": [
       "6"
      ]
     },
     "execution_count": 28,
     "metadata": {},
     "output_type": "execute_result"
    }
   ],
   "source": [
    "num4"
   ]
  },
  {
   "cell_type": "code",
   "execution_count": 29,
   "id": "1627cfc1",
   "metadata": {
    "ExecuteTime": {
     "end_time": "2022-09-19T17:42:08.925676Z",
     "start_time": "2022-09-19T17:42:08.914905Z"
    }
   },
   "outputs": [
    {
     "data": {
      "text/plain": [
       "5.9"
      ]
     },
     "execution_count": 29,
     "metadata": {},
     "output_type": "execute_result"
    }
   ],
   "source": [
    "num5"
   ]
  },
  {
   "cell_type": "code",
   "execution_count": 30,
   "id": "db6b3135",
   "metadata": {
    "ExecuteTime": {
     "end_time": "2022-09-19T17:42:16.630983Z",
     "start_time": "2022-09-19T17:42:16.571021Z"
    }
   },
   "outputs": [
    {
     "data": {
      "text/plain": [
       "6.0"
      ]
     },
     "execution_count": 30,
     "metadata": {},
     "output_type": "execute_result"
    }
   ],
   "source": [
    "num6"
   ]
  },
  {
   "cell_type": "code",
   "execution_count": 32,
   "id": "e7d49855",
   "metadata": {
    "ExecuteTime": {
     "end_time": "2022-09-19T17:43:01.153261Z",
     "start_time": "2022-09-19T17:43:01.142372Z"
    }
   },
   "outputs": [
    {
     "data": {
      "text/plain": [
       "'5.9'"
      ]
     },
     "execution_count": 32,
     "metadata": {},
     "output_type": "execute_result"
    }
   ],
   "source": [
    "str1"
   ]
  },
  {
   "cell_type": "code",
   "execution_count": 33,
   "id": "78f382b8",
   "metadata": {
    "ExecuteTime": {
     "end_time": "2022-09-19T17:43:04.145629Z",
     "start_time": "2022-09-19T17:43:04.138555Z"
    }
   },
   "outputs": [
    {
     "data": {
      "text/plain": [
       "'6.0'"
      ]
     },
     "execution_count": 33,
     "metadata": {},
     "output_type": "execute_result"
    }
   ],
   "source": [
    "str2"
   ]
  },
  {
   "cell_type": "markdown",
   "id": "0cbf9d89",
   "metadata": {},
   "source": [
    "# Fix the expression\n",
    "Question:10<br>\n",
    "Why does this expression cause an error?<br>\n",
    "How can you fix it?<br>\n",
    "'I have eaten ' + 99 + ' burritos'"
   ]
  },
  {
   "cell_type": "code",
   "execution_count": 37,
   "id": "0b069daf",
   "metadata": {
    "ExecuteTime": {
     "end_time": "2022-09-19T17:45:21.477329Z",
     "start_time": "2022-09-19T17:45:21.413570Z"
    },
    "deletable": false,
    "editable": false,
    "run_control": {
     "frozen": true
    }
   },
   "outputs": [
    {
     "ename": "TypeError",
     "evalue": "can only concatenate str (not \"int\") to str",
     "output_type": "error",
     "traceback": [
      "\u001b[0;31m---------------------------------------------------------------------------\u001b[0m",
      "\u001b[0;31mTypeError\u001b[0m                                 Traceback (most recent call last)",
      "Input \u001b[0;32mIn [37]\u001b[0m, in \u001b[0;36m<cell line: 1>\u001b[0;34m()\u001b[0m\n\u001b[0;32m----> 1\u001b[0m \u001b[38;5;124;43m'\u001b[39;49m\u001b[38;5;124;43mI have eaten \u001b[39;49m\u001b[38;5;124;43m'\u001b[39;49m\u001b[43m \u001b[49m\u001b[38;5;241;43m+\u001b[39;49m\u001b[43m \u001b[49m\u001b[38;5;241;43m99\u001b[39;49m \u001b[38;5;241m+\u001b[39m \u001b[38;5;124m'\u001b[39m\u001b[38;5;124m burritos\u001b[39m\u001b[38;5;124m'\u001b[39m\n",
      "\u001b[0;31mTypeError\u001b[0m: can only concatenate str (not \"int\") to str"
     ]
    }
   ],
   "source": [
    "'I have eaten ' + 99 + ' burritos'"
   ]
  },
  {
   "cell_type": "code",
   "execution_count": 36,
   "id": "ab410928",
   "metadata": {
    "ExecuteTime": {
     "end_time": "2022-09-19T17:45:09.654469Z",
     "start_time": "2022-09-19T17:45:09.645785Z"
    }
   },
   "outputs": [
    {
     "data": {
      "text/plain": [
       "'I have eaten 99 burritos'"
      ]
     },
     "execution_count": 36,
     "metadata": {},
     "output_type": "execute_result"
    }
   ],
   "source": [
    "# Fixed the experssion\n",
    "'I have eaten ' + str(99) + ' burritos'"
   ]
  }
 ],
 "metadata": {
  "kernelspec": {
   "display_name": "Python 3 (ipykernel)",
   "language": "python",
   "name": "python3"
  },
  "language_info": {
   "codemirror_mode": {
    "name": "ipython",
    "version": 3
   },
   "file_extension": ".py",
   "mimetype": "text/x-python",
   "name": "python",
   "nbconvert_exporter": "python",
   "pygments_lexer": "ipython3",
   "version": "3.8.13"
  },
  "toc": {
   "base_numbering": 1,
   "nav_menu": {},
   "number_sections": true,
   "sideBar": true,
   "skip_h1_title": false,
   "title_cell": "Table of Contents",
   "title_sidebar": "Contents",
   "toc_cell": true,
   "toc_position": {},
   "toc_section_display": true,
   "toc_window_display": true
  }
 },
 "nbformat": 4,
 "nbformat_minor": 5
}
